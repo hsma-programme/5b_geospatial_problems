{
 "cells": [
  {
   "cell_type": "markdown",
   "id": "b07b8431",
   "metadata": {},
   "source": [
    "<a name=\"top\">\n",
    "    Top of page\n",
    "</a>\n",
    "\n",
    "## 5B - Hands on Building of a Geographic Model\n",
    "### Facility Location Problems - Demonstration\n",
    "\n",
    "#### Case Study: Sexual Health Clinics in Hampshire\n",
    "\n",
    "The data provided below is taken from a real facility location study conducted in Hampshire. Data scientists worked with commissioners, a public health team, and a community NHS trust to review the provision of sexual health clinics across the region.\n",
    "\n",
    "There were concerns about the current provision of sexual health care. One of these concerns related to sustainability of services across **28** different locations. Furthermore, the variety in care provided at different locations was also of concern. The data scientists were tasked with identifying promising configurations of clinics to be retained, that preserved fair access for patients.\n",
    "\n",
    "**By the end of this exercise you'll have been shown how to:**\n",
    "\n",
    "* represent a facility location problem in a general format suitable for algorithmic solution\n",
    "* solve the p-median facility location problem using a brute force approach\n",
    "* create a chart to compare and contrast potential solutions.\n",
    "\n",
    "The following sections of code are included within this notebook:\n",
    "\n",
    "[1. Library Imports](#lib_imports)\\\n",
    "[2. Data Imports](#data_imports)\\\n",
    "[3. Representing a Solution](#rep_sol)\\\n",
    "[4. Constructing a Random Solution](#cons_random)\\\n",
    "[5. Evaluating a Solution](#eval_sol)\\\n",
    "[6. Small Problem: Enumerating all Possible Combinations](#small_prob)\\\n",
    "[7. Bruteforce Solution](#bruteforce)\\\n",
    "[8. Graphical Representation of Bruteforce Solution](#bar_chart)\\\n",
    "[9. Medium to Large: Using random restarts](#med_large)\n",
    "\n",
    "**Note** Using line numbers within cells may aid readability. Press `Shift` + `L` to toggle on/ off."
   ]
  },
  {
   "cell_type": "markdown",
   "id": "fbd35012",
   "metadata": {},
   "source": [
    "### Library Imports\n",
    "<a name=\"lib_imports\">\n",
    "   Code to Import Libraries\n",
    "</a>"
   ]
  },
  {
   "cell_type": "code",
   "execution_count": null,
   "id": "d4a37dda",
   "metadata": {},
   "outputs": [],
   "source": [
    "# Standard Imports\n",
    "import pandas as pd\n",
    "import numpy as np\n",
    "import matplotlib.pyplot as plt\n",
    "\n",
    "# combinations from the itertools library allows us to enumerate all \n",
    "# solutions (for small instances).\n",
    "from itertools import combinations"
   ]
  },
  {
   "cell_type": "code",
   "execution_count": null,
   "id": "ca29b5da",
   "metadata": {},
   "outputs": [],
   "source": [
    "# Metapy package imports\n",
    "# Required for a Weighted Average Objective\n",
    "# Ensure you have the 'metapy' folder (and contents) within your \n",
    "# current working directory\n",
    "from metapy.evolutionary.evolutionary import WeightedAverageObjective"
   ]
  },
  {
   "cell_type": "markdown",
   "id": "7e96615a",
   "metadata": {},
   "source": [
    "### Data Imports\n",
    "<a name=\"data_imports\">\n",
    "   Code to Import Data\n",
    "</a>"
   ]
  },
  {
   "cell_type": "code",
   "execution_count": null,
   "id": "463fd35f",
   "metadata": {},
   "outputs": [],
   "source": [
    "# Travel times to each clinic from different locations\n",
    "travel_matrix = pd.read_csv('../data/clinic_car_travel_time.csv', \n",
    "                            index_col='sector')\n",
    "travel_matrix.head()"
   ]
  },
  {
   "cell_type": "code",
   "execution_count": null,
   "id": "39bc36c4",
   "metadata": {},
   "outputs": [],
   "source": [
    "# no of cases by postcode sector...\n",
    "cases = pd.read_csv('../data/sh_demand.csv', index_col='sector')\n",
    "cases.head()"
   ]
  },
  {
   "cell_type": "markdown",
   "id": "6564ff08",
   "metadata": {},
   "source": [
    "### Representing a solution\n",
    "<a name=\"rep_sol\">\n",
    "   Code to Represent a Proposed Solution\n",
    "</a>\n",
    "\n",
    "When tasked with a facility location problem, its important think about how any proposed solution(s) will be represented. In this case, the solution will be represented using a vector of length $p$ where $p <= P$.  \n",
    "\n",
    "Each element of the vector represents the index of a clinic.  For example, if we have $P = 28$ candidate locations for clinics and wish to find the best solution where $p = 4$\n",
    "\n",
    "```python\n",
    "solution = np.array([10, 0, 6, 12])\n",
    "```\n",
    "The above code means that clinics which indicies 10, 0, 6, and 12 are included in the solution.\n",
    "\n",
    "To select a set of clinics from a `pandas.DataFrame` you can use the code below.  The indicies are used to select the column headers. In turn the column headers are then used to select the column data from the dataframe."
   ]
  },
  {
   "cell_type": "code",
   "execution_count": null,
   "id": "7f89b9fa",
   "metadata": {
    "scrolled": false
   },
   "outputs": [],
   "source": [
    "# the solution represents the indicies of clinics in the travel matrix\n",
    "solution = np.array([10, 0, 6, 12])\n",
    "\n",
    "# this code looks up the column names using the indicies in the solution\n",
    "# if you are unsure what it does then print out `mask`\n",
    "mask = travel_matrix.columns[solution]\n",
    "\n",
    "# finally we select a restricted set of columns from the DataFrame\n",
    "travel_matrix[mask]"
   ]
  },
  {
   "cell_type": "code",
   "execution_count": null,
   "id": "dba1fded",
   "metadata": {},
   "outputs": [],
   "source": [
    "print(mask)"
   ]
  },
  {
   "cell_type": "markdown",
   "id": "932d71ef",
   "metadata": {},
   "source": [
    "### Constructing a Random Solution\n",
    "<a name=\"cons_random\">\n",
    "   Code to Represent a Proposed Solution\n",
    "</a>\n",
    "\n",
    "Usually an initial solution(s) to a facility location problem is **generated** (as opposed to being manually specified). This gives you starting place by which to assess other solutions (i.e., better or worse than the one(s) before it).\n",
    "\n",
    "The function below `random_solution` accepts:\n",
    "* `n_candidates`: The number of candidate locations where you could place clinics (facilities)\n",
    "* `p` the number of clinics to place.\n",
    "* `random_seed` (optional).  Use if you wanted to recreate your results."
   ]
  },
  {
   "cell_type": "code",
   "execution_count": null,
   "id": "97e3765c",
   "metadata": {},
   "outputs": [],
   "source": [
    "def random_solution(n_candidates, p, random_seed=None):\n",
    "    '''\n",
    "    Helper function to generate a random solution\n",
    "    \n",
    "    Params\n",
    "    ------\n",
    "    n_candidates : int\n",
    "        The number of candidate locations where you could place \n",
    "        clinics (facilities).\n",
    "        \n",
    "    p : int\n",
    "        The number of clinics to place.\n",
    "        \n",
    "    random_seed : int (Default=None)\n",
    "        Random seed for reproducibility.\n",
    "    \n",
    "    Returns\n",
    "    -------\n",
    "    \n",
    "    Vector (np.array) of length p\n",
    "    '''\n",
    "    # create a random number generator\n",
    "    rng = np.random.default_rng(seed=random_seed)\n",
    "\n",
    "    # sample without replacement\n",
    "    solution = []\n",
    "    while len(solution) < p:\n",
    "        candidate = rng.integers(0, n_candidates)\n",
    "        if candidate not in solution:\n",
    "            solution.append(candidate)\n",
    "            \n",
    "    return np.array(solution)"
   ]
  },
  {
   "cell_type": "code",
   "execution_count": null,
   "id": "a22d783e",
   "metadata": {},
   "outputs": [],
   "source": [
    "# Now we'll use that fn to generate a random solution\n",
    "# This will then be saved to the variable `init_solution`\n",
    "init_solution = random_solution(28, 4, random_seed=42)\n",
    "init_solution"
   ]
  },
  {
   "cell_type": "markdown",
   "id": "b073212d",
   "metadata": {},
   "source": [
    "**Question:** What would happen if we removed the random seed parameter and executed the function 10 times?"
   ]
  },
  {
   "cell_type": "markdown",
   "id": "36434da0",
   "metadata": {},
   "source": [
    "**Advanced** Although not necessary, if we wanted to refactor the code and make it more elegant, Numpy's built-in `choice` method that allows you to sample **without** replacement.\n",
    "\n",
    "[`np.arange` documentation](https://numpy.org/doc/stable/reference/generated/numpy.arange.html)"
   ]
  },
  {
   "cell_type": "code",
   "execution_count": null,
   "id": "b7266921",
   "metadata": {},
   "outputs": [],
   "source": [
    "def random_solution2(n_candidates, p, random_seed=None):\n",
    "    '''\n",
    "    Helper function to generate a random solution\n",
    "    \n",
    "    Params\n",
    "    ------\n",
    "    n_candidates : int\n",
    "        The number of candidate locations where you could place clinics (facilities).\n",
    "        \n",
    "    p : int\n",
    "        The number of clinics to place.\n",
    "        \n",
    "    random_seed : int (Default=None)\n",
    "        Random seed for reproducibility.\n",
    "    \n",
    "    Returns\n",
    "    -------\n",
    "    \n",
    "    Vector (np.array) of length p\n",
    "    '''\n",
    "    # create a random number generator\n",
    "    rng = np.random.default_rng(seed=random_seed)\n",
    "    \n",
    "    # create array of candidate indices\n",
    "    candidates = np.arange(n_candidates, dtype=np.byte)\n",
    "    \n",
    "    # sample without replacement and return array\n",
    "    return rng.choice(candidates, size=p, replace=False)"
   ]
  },
  {
   "cell_type": "code",
   "execution_count": null,
   "id": "f61dedb0",
   "metadata": {},
   "outputs": [],
   "source": [
    "init_solution = random_solution2(28, 4)\n",
    "init_solution"
   ]
  },
  {
   "cell_type": "markdown",
   "id": "4f72fea6",
   "metadata": {},
   "source": [
    "### Evaluating a Solution\n",
    "<a name=\"eval_sol\">\n",
    "   Code to Represent a Proposed Solution\n",
    "</a>\n",
    "\n",
    "There are multiple ways to formulate the objectives of a facility location problem.  With the sexual health case study you will formulate it as a p-median problem.  Where the objective is to find the combination of facilities that minimises the weighted average car travel time to a clinic.\n",
    "\n",
    "`metapy` contains a `WeightAverageObjective` class that accepts both the geospatial demand and travel matrix as parameters.\n",
    "\n",
    "```python\n",
    "from metapy.evolutionary.evolutionary import WeightedAverageObjective\n",
    "\n",
    "# create an instance and pass in demand and travel times\n",
    "obj = WeightedAverageObjective(cases, travel_matrix)\n",
    "```\n",
    "\n",
    "The object has a method `evaluate(solution)` that accepts a numpy vector that is your representation of the a solution.\n",
    "\n",
    "```python\n",
    "obj.evaluate(solution)\n",
    "```\n",
    "\n",
    "The code below brings these together.  Execute the cell to see the output.\n",
    "\n",
    "[Back to the top of this page.](#top)"
   ]
  },
  {
   "cell_type": "code",
   "execution_count": null,
   "id": "500225b4",
   "metadata": {},
   "outputs": [],
   "source": [
    "obj = WeightedAverageObjective(cases, travel_matrix)\n",
    "# `solution` was manually created above...\n",
    "obj.evaluate(solution)"
   ]
  },
  {
   "cell_type": "code",
   "execution_count": null,
   "id": "8ac5316b",
   "metadata": {},
   "outputs": [],
   "source": [
    "# compare the the initial solution\n",
    "obj.evaluate(init_solution)"
   ]
  },
  {
   "cell_type": "markdown",
   "id": "fe80643f",
   "metadata": {},
   "source": [
    "#### Important Note\n",
    "\n",
    "In this example, we've been provided with pre-aggregated demand per 'sector' (i.e. each sector is listed once and the cumulative number of corresponding visits (i.e., demand) is provided. However, if the data had been provided in a non-aggregated form i.e., granular list of each unique visit, then it would be possible to calculate both the maximum and 95th percentile of travel times, per clinic.\n",
    "\n",
    "\n",
    "... More detail to be added to aid the Group Exercise"
   ]
  },
  {
   "cell_type": "markdown",
   "id": "35388a15",
   "metadata": {},
   "source": [
    "### Small Problem: Enumerating all Possible Combinations\n",
    "<a name=\"small_prob\">\n",
    "   Code to Enumerate all Possible Facility Combinations.\n",
    "</a>\n",
    "\n",
    "For small problems it is possible to enumerate all combinations to locate the \"optimal\" solution.  \n",
    "\n",
    "The function `all_combinations` below will provide a list of solutions representing an exhaustive solution space for a given problem.  For example, if the problem consisted of 10 candidate locations and you wish to evaluate solutions of size 4 then the solution space is fully represented by 210 unique solutions.\n",
    "\n",
    "This method is straightforward for health service customers to understand and for small problems it is unusual to use a complex optimisation procedure.  As the facility location problem is NP hard, this strategy is not recommended for large scale problems.  The evaluation of the fitness of the solutions will become prohibitive as the size of the problem begins to exceed 10.\n",
    "\n",
    "**Question** What is a list comprehension? [Reminder here](https://www.w3schools.com/python/python_lists_comprehension.asp)."
   ]
  },
  {
   "cell_type": "code",
   "execution_count": null,
   "id": "5882ae83",
   "metadata": {},
   "outputs": [],
   "source": [
    "def all_combinations(n_facilities, p):\n",
    "    '''\n",
    "    n_facilities : int\n",
    "        The number of candidate locations where you could place facilities (clinics).\n",
    "        \n",
    "    p : int\n",
    "        The number of clinics to place.\n",
    "    \n",
    "    Returns\n",
    "    -------\n",
    "    \n",
    "    Returns all p sized combinations of an array containing\n",
    "    indicies 0 to n_facilties - 1 \n",
    "    '''\n",
    "    facility = np.arange(n_facilities, dtype=np.uint8)\n",
    "    return [np.array(a) for a in combinations(facility, p)]"
   ]
  },
  {
   "cell_type": "code",
   "execution_count": null,
   "id": "298833f6",
   "metadata": {},
   "outputs": [],
   "source": [
    "# size 4 combinations of 10 candidate locations = 210\n",
    "comb = all_combinations(n_facilities=10, p=4)\n",
    "len(comb)"
   ]
  },
  {
   "cell_type": "code",
   "execution_count": null,
   "id": "a47406e5",
   "metadata": {},
   "outputs": [],
   "source": [
    "# take a look at index 0\n",
    "comb[0]"
   ]
  },
  {
   "cell_type": "code",
   "execution_count": null,
   "id": "f03d74a3",
   "metadata": {},
   "outputs": [],
   "source": [
    "# index 209 i.e., last\n",
    "comb[-1]"
   ]
  },
  {
   "cell_type": "markdown",
   "id": "4928ed4a",
   "metadata": {},
   "source": [
    "### Bruteforce Solution\n",
    "<a name=\"bruteforce\">\n",
    "   Code to assess all possible clinic combinations with respect ot weighted average travel time.\n",
    "</a>\n",
    "\n",
    "Given that there are a relatively small number of combinations available, it is possible to assess each of them before determining the optimal solution.\n",
    "\n",
    "The steps for this are:\n",
    "1. Generate all possible combinations using the `all_combinations` function;\n",
    "2. Create a fresh WeightedAverageObjective varaible, using the cases and travel matrix data;\n",
    "3. Evaluate each solution and append the results to a list, before converting the completed list to a Numpy array.\n",
    "4. Identify the index of the optical solution (from within the array of the combinations). [See `np.argmin` documentation here](https://numpy.org/doc/stable/reference/generated/numpy.argmin.html)."
   ]
  },
  {
   "cell_type": "code",
   "execution_count": null,
   "id": "2d03deba",
   "metadata": {},
   "outputs": [],
   "source": [
    "# size 4 combinations of 6 candidate locations = 15 combinations\n",
    "comb = all_combinations(n_facilities=6, p=4)\n",
    "print('With 4 ouf of 6 possible locations, there are'+\\\n",
    "      f' {len(comb)} combinations')\n",
    "\n",
    "# create objective function...\n",
    "obj = WeightedAverageObjective(cases, travel_matrix)\n",
    "\n",
    "results = []\n",
    "for solution in comb:\n",
    "    results.append(obj.evaluate(solution))\n",
    "results = np.array(results)\n",
    "\n",
    "# get the index of the minimum\n",
    "optimal_index = np.argmin(results)\n",
    "print('The index of the combinations offering the optimal'+\\\n",
    "      f' solution is {optimal_index}')"
   ]
  },
  {
   "cell_type": "markdown",
   "id": "838fb3d1",
   "metadata": {},
   "source": [
    "### Graphical Representation of Bruteforce Solution\n",
    "<a name=\"bar_chart\">\n",
    "   Code to generate a bar chart representing to assessment above.\n",
    "</a>\n",
    "\n",
    "When considering all of the potential solutions (of which there are 15).\n",
    "\n",
    "**Questions**\n",
    "1. How many bars will be in this chart?\n",
    "2. How do you think you could colour the bar of the optimal combination yellow?"
   ]
  },
  {
   "cell_type": "code",
   "execution_count": null,
   "id": "ffc0c880",
   "metadata": {
    "scrolled": false
   },
   "outputs": [],
   "source": [
    "# Create axis on which to generate the chart\n",
    "fig, ax = plt.subplots(1, 1, figsize=(12, 6))\n",
    "\n",
    "# convert solutions to strings\n",
    "xlabels = []\n",
    "for solution in comb:\n",
    "    label = '-'.join(str(a) for a in solution)\n",
    "    xlabels.append(label)\n",
    "\n",
    "barlist = ax.bar(xlabels, results)\n",
    "barlist[optimal_index].set_color('r')\n",
    "\n",
    "print(f'optimal cost: {results[optimal_index]}')\n",
    "print(f'optimal solution: {comb[optimal_index]}')"
   ]
  },
  {
   "cell_type": "markdown",
   "id": "def81e8b",
   "metadata": {},
   "source": [
    "*Additional actions...*\n",
    "1. Can you modify the code below to now:\\\n",
    "    a. Add a Title to the chart?\\\n",
    "    b. Add an x-axis label to the chart?\\\n",
    "    c. Add a y-axis label to the chart?\\\n",
    "    b. Save the chart as an image?"
   ]
  },
  {
   "cell_type": "code",
   "execution_count": null,
   "id": "43ff4170",
   "metadata": {},
   "outputs": [],
   "source": [
    "# Code below is currently a Copy and Paste of the above...\n",
    "# Can you address the four additional actions?\n",
    "\n",
    "# Create axis on which to generate the chart\n",
    "fig, ax = plt.subplots(1, 1, figsize=(12, 6))\n",
    "\n",
    "# convert solutions to strings\n",
    "xlabels = []\n",
    "for solution in comb:\n",
    "    label = '-'.join(str(a) for a in solution)\n",
    "    xlabels.append(label)\n",
    "\n",
    "barlist = ax.bar(xlabels, results)\n",
    "barlist[optimal_index].set_color('r')\n",
    "\n",
    "print(f'optimal cost: {results[optimal_index]}')\n",
    "print(f'optimal solution: {comb[optimal_index]}')"
   ]
  },
  {
   "cell_type": "code",
   "execution_count": null,
   "id": "545ef5ae",
   "metadata": {},
   "outputs": [],
   "source": [
    "# Code below is currently a Copy and Paste of the above...\n",
    "# Can you address the four additional actions?\n",
    "\n",
    "# Create axis on which to generate the chart\n",
    "fig, ax = plt.subplots(1, 1, figsize=(12, 6))\n",
    "\n",
    "# convert solutions to strings\n",
    "xlabels = []\n",
    "for solution in comb:\n",
    "    label = '-'.join(str(a) for a in solution)\n",
    "    xlabels.append(label)\n",
    "\n",
    "barlist = ax.bar(xlabels, results)\n",
    "barlist[optimal_index].set_color('r')\n",
    "\n",
    "# Add Title\n",
    "ax.set_title(\"Visual Comparison of Solutions by Clinic Index Numbers\")\n",
    "\n",
    "# Add x-axis label\n",
    "ax.set_xlabel(\"Clinic Combinations (Index)\")\n",
    "\n",
    "# Add y-axis label\n",
    "ax.set_ylabel(\"Travel 'Cost'\")\n",
    "\n",
    "# Save file\n",
    "fig.savefig(\"sols_chart_ca1.png\")\n",
    "\n",
    "print(f'optimal cost: {results[optimal_index]}')\n",
    "print(f'optimal solution: {comb[optimal_index]}')"
   ]
  },
  {
   "cell_type": "markdown",
   "id": "df8f7501",
   "metadata": {},
   "source": [
    "### Medium to Large: Using random restarts\n",
    "<a name=\"med_large\">\n",
    "   Code to use random restarts/ random search as a simple benchmark.\n",
    "</a>\n",
    "\n",
    "When you encounter a medium to large instance of a facility location problem (or any optimisation problem) it is often tempting to move quickly onto a sophisticated solution method.  But how do you know that it is better than a simple heuristic?  \n",
    "\n",
    "**Here you will use the random restarts algorithm (sometimes called random search) as a simple benchmark.**\n",
    "\n",
    "Random restarts is simple heuristic.  You allocate a computational budget - either in terms of iterations or execution time - and randomly generate solutions and evaluate them. For example, you might specify an execution time limit of 10 seconds and in that time evaluate as many random solutions as possible.  \n",
    "\n",
    "In the cells below, we will demonstrate the following:\n",
    "* Using the `random_solution` function defined earlier create another function `random_restarts` that runs for fixed number of iterations i.e., 10.  This will mean that the algorithm will generate 10 random solutions and then evaluates them.  \n",
    "* The function returns a tuple of the best cost and best solution found when minimising the weighted average car travel time.\n",
    "* The use case will be 28 candidate locations and a budget of 8 clinics to place - that's over 3 millions possible combinations.\n",
    "* Try running the algorithm a few times or varying the budget (number of clinics). What do you notice?"
   ]
  },
  {
   "cell_type": "code",
   "execution_count": null,
   "id": "6e396137",
   "metadata": {},
   "outputs": [],
   "source": [
    "def random_restarts(max_iter, obj, n_facilities, p, random_seed=None):\n",
    "    '''\n",
    "    max_iter : int\n",
    "        Maximum number of iterations to try\n",
    "    \n",
    "    obj :  object\n",
    "        WeightedAverageObjective\n",
    "    \n",
    "    n_facilities : int\n",
    "        The number of candidate locations where you could place facilities (clinics).\n",
    "        \n",
    "    p : int\n",
    "        The number of clinics to place.\n",
    "    \n",
    "    Returns\n",
    "    -------\n",
    "    \n",
    "    best_cost : float\n",
    "        Lowest 'cost'    \n",
    "    \n",
    "    solution : array\n",
    "        Indecies of clincs in solution.\n",
    "    '''\n",
    "    \n",
    "    np.random.seed(random_seed)\n",
    "    \n",
    "    # implementation of random restarts alg\n",
    "    best_cost = np.Inf\n",
    "    best_solution = None\n",
    "    for i in range(max_iter):\n",
    "        solution = random_solution(n_facilities, p)\n",
    "        cost = obj.evaluate(solution)\n",
    "        \n",
    "        if cost < best_cost:\n",
    "            best_cost = cost\n",
    "            best_solution = solution\n",
    "            \n",
    "    return best_cost, solution\n",
    "        "
   ]
  },
  {
   "cell_type": "markdown",
   "id": "06374192",
   "metadata": {},
   "source": [
    "Showing the random nature by running the code twice..."
   ]
  },
  {
   "cell_type": "code",
   "execution_count": null,
   "id": "07f80bfd",
   "metadata": {},
   "outputs": [],
   "source": [
    "# First time...\n",
    "max_iter = 1000\n",
    "n_facilities = 28\n",
    "p = 8\n",
    "\n",
    "# create objective function...\n",
    "obj = WeightedAverageObjective(cases, travel_matrix)\n",
    "\n",
    "random_restarts(max_iter, obj, n_facilities, p)"
   ]
  },
  {
   "cell_type": "code",
   "execution_count": null,
   "id": "926417fb",
   "metadata": {},
   "outputs": [],
   "source": [
    "# Second time...\n",
    "max_iter = 1000\n",
    "n_facilities = 28\n",
    "p = 8\n",
    "\n",
    "# create objective function...\n",
    "obj = WeightedAverageObjective(cases, travel_matrix)\n",
    "\n",
    "random_restarts(max_iter, obj, n_facilities, p)"
   ]
  },
  {
   "cell_type": "markdown",
   "id": "95f9ef0a",
   "metadata": {},
   "source": [
    "The end."
   ]
  }
 ],
 "metadata": {
  "kernelspec": {
   "display_name": "Python 3 (ipykernel)",
   "language": "python",
   "name": "python3"
  },
  "language_info": {
   "codemirror_mode": {
    "name": "ipython",
    "version": 3
   },
   "file_extension": ".py",
   "mimetype": "text/x-python",
   "name": "python",
   "nbconvert_exporter": "python",
   "pygments_lexer": "ipython3",
   "version": "3.9.16"
  }
 },
 "nbformat": 4,
 "nbformat_minor": 5
}
