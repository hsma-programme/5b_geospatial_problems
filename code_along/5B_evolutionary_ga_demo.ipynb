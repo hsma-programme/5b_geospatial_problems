{
 "cells": [
  {
   "cell_type": "markdown",
   "metadata": {},
   "source": [
    "## Evolutionary Algorithms Demo\n",
    "\n",
    "The data for this demo is the same as seen previously (i.e., sexual clinic location problem)."
   ]
  },
  {
   "cell_type": "markdown",
   "metadata": {},
   "source": [
    "### Imports "
   ]
  },
  {
   "cell_type": "code",
   "execution_count": null,
   "metadata": {},
   "outputs": [],
   "source": [
    "import pandas as pd\n",
    "import numpy as np\n",
    "import matplotlib.pyplot as plt\n",
    "\n",
    "# you will use itertools for enumerating all solutions in small instances.\n",
    "from itertools import combinations"
   ]
  },
  {
   "cell_type": "markdown",
   "metadata": {},
   "source": [
    "###  `metapy` package imports\n",
    "\n",
    "The package contains the classes and functions for the evolutionary algorithms you will use in this notebook."
   ]
  },
  {
   "cell_type": "code",
   "execution_count": null,
   "metadata": {},
   "outputs": [],
   "source": [
    "from metapy.evolutionary.evolutionary import (EvolutionaryAlgorithm, \n",
    "                                              MuLambdaEvolutionStrategy, \n",
    "                                              MuPlusLambdaEvolutionStrategy,\n",
    "                                              GeneticAlgorithmStrategy,\n",
    "                                              ElitistGeneticAlgorithmStrategy,\n",
    "                                              WeightedAverageObjective,\n",
    "                                              FacilityLocationPopulationGenerator,\n",
    "                                              BasicFacilityLocationMutator,\n",
    "                                              TournamentSelector,\n",
    "                                              FacilityLocationSinglePointCrossOver)"
   ]
  },
  {
   "cell_type": "markdown",
   "metadata": {},
   "source": [
    "Function to determine the number of possible combinations..."
   ]
  },
  {
   "cell_type": "code",
   "execution_count": null,
   "metadata": {},
   "outputs": [],
   "source": [
    "def combination_counter(n_facilities, p):\n",
    "    facility = np.arange(n_facilities, dtype=np.uint8)\n",
    "    combs = [np.array(a) for a in combinations(facility, p)]\n",
    "    combs_len = len(combs)\n",
    "    combs_len = format(combs_len, \",\")\n",
    "    print(f\"Placing {p} facilities from a possible {n_facilities} \" +\n",
    "          f\"location yields {combs_len} possible combinations\")"
   ]
  },
  {
   "cell_type": "markdown",
   "metadata": {},
   "source": [
    "Other functions and data storage (dict) required."
   ]
  },
  {
   "cell_type": "code",
   "execution_count": null,
   "metadata": {},
   "outputs": [],
   "source": [
    "def random_restarts(max_iter, obj, n_facilities, p, random_seed=None):\n",
    "    '''\n",
    "    max_iter : int\n",
    "        Maximum number of iterations to try\n",
    "    \n",
    "    obj :  object\n",
    "        WeightedAverageObjective\n",
    "    \n",
    "    n_facilities : int\n",
    "        The number of candidate locations where you could place facilities (clinics).\n",
    "        \n",
    "    p : int\n",
    "        The number of clinics to place.\n",
    "    \n",
    "    Returns\n",
    "    -------\n",
    "    \n",
    "    best_cost : float\n",
    "        Lowest 'cost'    \n",
    "    \n",
    "    solution : array\n",
    "        Indecies of clincs in solution.\n",
    "    '''\n",
    "    \n",
    "    np.random.seed(random_seed)\n",
    "    \n",
    "    # implementation of random restarts alg\n",
    "    best_cost = np.Inf\n",
    "    best_solution = None\n",
    "    for i in range(max_iter):\n",
    "        solution = random_solution(n_facilities, p)\n",
    "        cost = obj.evaluate(solution)\n",
    "        \n",
    "        if cost < best_cost:\n",
    "            best_cost = cost\n",
    "            best_solution = solution\n",
    "            \n",
    "    return best_cost, solution\n",
    "        "
   ]
  },
  {
   "cell_type": "code",
   "execution_count": null,
   "metadata": {},
   "outputs": [],
   "source": [
    "def random_solution(n_candidates, p, random_seed=None):\n",
    "    '''\n",
    "    Helper function to generate a random solution\n",
    "    \n",
    "    Params\n",
    "    ------\n",
    "    n_candidates : int\n",
    "        The number of candidate locations where you could place \n",
    "        clinics (facilities).\n",
    "        \n",
    "    p : int\n",
    "        The number of clinics to place.\n",
    "        \n",
    "    random_seed : int (Default=None)\n",
    "        Random seed for reproducibility.\n",
    "    \n",
    "    Returns\n",
    "    -------\n",
    "    \n",
    "    Vector (np.array) of length p\n",
    "    '''\n",
    "    # create a random number generator\n",
    "    rng = np.random.default_rng(seed=random_seed)\n",
    "\n",
    "    # sample without replacement\n",
    "    solution = []\n",
    "    while len(solution) < p:\n",
    "        candidate = rng.integers(0, n_candidates)\n",
    "        if candidate not in solution:\n",
    "            solution.append(candidate)\n",
    "            \n",
    "    return np.array(solution)"
   ]
  },
  {
   "cell_type": "code",
   "execution_count": null,
   "metadata": {},
   "outputs": [],
   "source": [
    "# create a dictionary to store results\n",
    "_results = {}"
   ]
  },
  {
   "cell_type": "markdown",
   "metadata": {},
   "source": [
    "### Import case study data\n",
    "\n",
    "The car travel times in minutes from annoymised postcode sectors to annoymised clinic locations."
   ]
  },
  {
   "cell_type": "code",
   "execution_count": null,
   "metadata": {},
   "outputs": [],
   "source": [
    "travel_matrix = pd.read_csv('../data/clinic_car_travel_time.csv', \n",
    "                            index_col='sector')\n",
    "travel_matrix.head()"
   ]
  },
  {
   "cell_type": "code",
   "execution_count": null,
   "metadata": {},
   "outputs": [],
   "source": [
    "# no of cases by postcode sector...\n",
    "\n",
    "cases = pd.read_csv('../data/sh_demand.csv', index_col='sector')\n",
    "cases.head()"
   ]
  },
  {
   "cell_type": "markdown",
   "metadata": {},
   "source": [
    "#### 1. Generating an initial population.\n",
    "\n",
    "The first task when using a population based method is to create an initial random population of solutions!  For our purposes, this is a multi-dimensional array.  We can use an object of type `FacilityLocationPopulationGenerator` to do the work for us here.\n",
    "\n",
    "```python\n",
    "from metapy.evolutionary.evolutionary import FacilityLocationPopulationGenerator\n",
    "```\n",
    "\n",
    "`FacilityLocationPopulationGenerator` accepts three arguments when it is created:\n",
    "\n",
    "* `n_candidates`: int.  This is $P$ the number of candidate locations\n",
    "* `n_facilities`: int. This is $p$ the number of facilities to place.\n",
    "* `random_seed`: int, optional (default=None).  Set if you want a reproducible result.  For example = 42.\n",
    "\n",
    "`FacilityLocationPopulationGenerator` has a single method `generate` that accepts a parameter specifying the population size.  It returns a multi-dimensional numpy array.\n",
    "\n",
    "Let's assume you want have a problem with $P$ = 28, $p$ = 8 and we want to create a population of size 10.\n",
    "\n",
    "```python\n",
    "#example solution\n",
    "N_CANDIDATES = 28\n",
    "N_FACILITIES = 8\n",
    "SEED = 42\n",
    "POPULATION_SIZE = 10\n",
    "\n",
    "gen = FacilityLocationPopulationGenerator(n_candidates=N_CANDIDATES,\n",
    "                                          n_facilities=N_FACILITIES,\n",
    "                                          random_seed=SEED)\n",
    "\n",
    "\n",
    "gen.generate(population_size=POPULATION_SIZE)\n",
    "```"
   ]
  },
  {
   "cell_type": "code",
   "execution_count": null,
   "metadata": {},
   "outputs": [],
   "source": [
    "combination_counter(28, 8)"
   ]
  },
  {
   "cell_type": "code",
   "execution_count": null,
   "metadata": {},
   "outputs": [],
   "source": [
    "# example solution\n",
    "N_CANDIDATES = 28\n",
    "N_FACILITIES = 8\n",
    "SEED = 42\n",
    "POPULATION_SIZE = 10\n",
    "\n",
    "# Instantiate the FacilityLocationPopulationGenerator class into an object variable (gen)\n",
    "gen = FacilityLocationPopulationGenerator(n_candidates=N_CANDIDATES,\n",
    "                                          n_facilities=N_FACILITIES,\n",
    "                                          random_seed=SEED)\n",
    "\n",
    "# Remember the 'gen' object as a single method generate \n",
    "# that accepts a parameter specifying the population size. \n",
    "gen.generate(population_size=10)"
   ]
  },
  {
   "cell_type": "markdown",
   "metadata": {},
   "source": [
    "#### 2: Mutating a solution\n",
    "\n",
    "* Basic evolutionary strategies work by mutating the most promising solutions in the population.  \n",
    "* There are many ways to implement mutation.  \n",
    "* Here you will use `BasicFacilityLocationMutator`.  \n",
    "* Each element in a solution has a constant probability of mutation (by default 1 / no. of facilities in a solution, but you may wish to set this higher.).  \n",
    "* If a facility is chosen then it is replaced by a random facility not currently in the solution.\n",
    "\n",
    "You can create a `BasicFacilityLocationMutator` as follows:\n",
    "\n",
    "```python\n",
    "mutator = BasicFacilityLocationMutator(n_candidates=28,\n",
    "                                       solution_size=4)\n",
    "solution = np.array([1, 2, 3, 4])\n",
    "\n",
    "mutant = mutator.mutate(solution)\n",
    "print(mutant)\n",
    "```\n",
    "\n",
    "To use a higher mutation rate:\n",
    "\n",
    "```python\n",
    "mutator = BasicFacilityLocationMutator(n_candidates=28,\n",
    "                                  solution_size=4,\n",
    "                                  mutation_rate=0.6)\n",
    "solution = np.array([1, 2, 3, 4])\n",
    "\n",
    "mutant = mutator.mutate(solution)\n",
    "print(mutant)\n",
    "```"
   ]
  },
  {
   "cell_type": "code",
   "execution_count": null,
   "metadata": {},
   "outputs": [],
   "source": [
    "# mutating through 10 generations\n",
    "gens = 10\n",
    "\n",
    "\n",
    "mutator = BasicFacilityLocationMutator(n_candidates=28,\n",
    "                                       solution_size=4,\n",
    "                                       mutation_rate=0.5)\n",
    "solution = np.arange(5)\n",
    "\n",
    "for i in range(gens):\n",
    "    solution = mutator.mutate(solution)\n",
    "    print(f'solution {sorted(solution)}')"
   ]
  },
  {
   "cell_type": "markdown",
   "metadata": {},
   "source": [
    "#### Exercise 3: The <span style=\"color:red\"> $(\\mu, \\lambda)$ </span> and <span style=\"color:blue\">$(\\mu+\\lambda)$ </span> evolutionary strategies\n",
    "\n",
    "A random initial population and a mutation operator provide the ingredients for the two basic evolutionary strategies: <span style=\"color:red\"> $(\\mu, \\lambda)$ </span> and <span style=\"color:blue\">$(\\mu+\\lambda)$ </span>.\n",
    "\n",
    "Remember...\n",
    "* $(\\lambda)$ \"lambda\" represents initial population size (i.e. how many solutions)\n",
    "* $(\\mu)$ \"mu\" represents the number of best solutions to keep, remainder are deleted\n",
    "\n",
    "Below you will :\n",
    "* Determine how many possible combinations there are to consider using the `combination_counter` function defined above.\n",
    "* Run two evolutionary algorithms with <span style=\"color:red\">$(\\mu, \\lambda)$</span> and <span style=\"color:blue\">$(\\mu$ **+** $\\lambda)$</span>  strategies respectively.\n",
    "* Investigate the parameters required when creating <span style=\"color:red\">**MuLambdaEvolutionStrategy**</span>  and <span style=\"color:blue\"> **MuPlusLambdaEvolutionStrategy** </span> \n",
    "* Use a problem size of 28 candidate locations and 14 facilities\n",
    "* Initially try \n",
    " * $\\mu $(\"mu\" aka number of best solutions to keep) = 10; and \n",
    " * $\\lambda$ (\"lambda\" aka initial population size) = 200. \n",
    "* Using a random initial population evolve for 50 generations.\n",
    "* Compare with random restarts (from code along file).\n",
    "\n",
    "**Note**:\n",
    "* Evolutionary strategies are computationally expensive.  Expect a 50 generation algorithm to take 20-45 seconds on your machine."
   ]
  },
  {
   "cell_type": "markdown",
   "metadata": {},
   "source": [
    "Read about `%%time` [here](https://ipython.readthedocs.io/en/stable/interactive/magics.html#magic-time)"
   ]
  },
  {
   "cell_type": "code",
   "execution_count": null,
   "metadata": {},
   "outputs": [],
   "source": [
    "combination_counter(28, 14)"
   ]
  },
  {
   "cell_type": "code",
   "execution_count": null,
   "metadata": {
    "scrolled": true
   },
   "outputs": [],
   "source": [
    "%%time\n",
    "\n",
    "# Evolutionary Algorithm - (mu,lambda) strategy\n",
    "n_candidates = 28\n",
    "n_facilities = 14\n",
    "\n",
    "mu = 10\n",
    "_lambda = 200\n",
    "\n",
    "# objective\n",
    "objective = WeightedAverageObjective(cases, travel_matrix)\n",
    "\n",
    "# initial solution generator\n",
    "init = FacilityLocationPopulationGenerator(n_candidates, n_facilities)\n",
    "\n",
    "# mutation operator\n",
    "mutator = BasicFacilityLocationMutator(n_candidates=n_candidates, \n",
    "                                       solution_size=n_facilities, \n",
    "                                       mutation_rate=0.2, verbose=False)\n",
    "\n",
    "# evolutionary stategy - mu, lambda\n",
    "strategy = MuLambdaEvolutionStrategy(mu, _lambda, mutator)\n",
    "\n",
    "# solver object\n",
    "solver = EvolutionaryAlgorithm(init, objective, _lambda, strategy, \n",
    "                               maximisation=False, generations=50)\n",
    "\n",
    "print(\"\\nRunning (mu, lambda) evolutionary alg...\")\n",
    "solver.solve()\n",
    "\n",
    "print(\"\\n** (MU,LAMBDA) OUTPUT ***\")\n",
    "print(\"best cost:\\t{0}\".format(solver.best_fitness))\n",
    "print(\"best solutions:\")\n",
    "print(sorted(solver.best_solution))\n",
    "print(\"\\n ------\")\n",
    "\n",
    "_results['mulambda'] = solver.best_fitness"
   ]
  },
  {
   "cell_type": "code",
   "execution_count": null,
   "metadata": {},
   "outputs": [],
   "source": [
    "%%time\n",
    "\n",
    "# Evolutionary Algorithm - (mu+lambda) strategy\n",
    "n_candidates = 28\n",
    "n_facilities = 14\n",
    "\n",
    "mu = 10\n",
    "_lambda = 200\n",
    "\n",
    "# objective\n",
    "objective = WeightedAverageObjective(cases, travel_matrix)\n",
    "\n",
    "# initial solution generator\n",
    "init = FacilityLocationPopulationGenerator(n_candidates, n_facilities)\n",
    "\n",
    "# mutation operator\n",
    "mutator = BasicFacilityLocationMutator(n_candidates=n_candidates, \n",
    "                                       solution_size=n_facilities, \n",
    "                                       mutation_rate=0.2, verbose=False)\n",
    "\n",
    "# evolutionary stategy - mu PLUS lambda\n",
    "strategy = MuPlusLambdaEvolutionStrategy(mu, _lambda, mutator)\n",
    "\n",
    "# solver object\n",
    "solver = EvolutionaryAlgorithm(init, objective, _lambda, strategy, \n",
    "                               maximisation=False, generations=50)\n",
    "\n",
    "print(\"\\nRunning (mu + lambda) evolutionary alg...\")\n",
    "solver.solve()\n",
    "\n",
    "print(\"\\n** (MU+LAMBDA) OUTPUT ***\")\n",
    "print(\"best cost:\\t{0}\".format(solver.best_fitness))\n",
    "print(\"best solutions:\")\n",
    "print(sorted(solver.best_solution))\n",
    "print(\"\\n ------\")\n",
    "\n",
    "_results['mupluslamba'] = solver.best_fitness"
   ]
  },
  {
   "cell_type": "code",
   "execution_count": null,
   "metadata": {},
   "outputs": [],
   "source": [
    "%%time\n",
    "\n",
    "rr_bc, rr_bs = random_restarts(10000,\n",
    "                               objective,\n",
    "                               28, \n",
    "                               14)\n",
    "\n",
    "print(rr_bc)\n",
    "print(rr_bs)\n",
    "\n",
    "_results['random_restarts'] = rr_bc"
   ]
  },
  {
   "cell_type": "markdown",
   "metadata": {},
   "source": [
    "#### Exercise 4: Locating facilities using a full Genetic Algorithm (GA)\n",
    "\n",
    "Now that we have warmed up using  $(\\mu, \\lambda)$ and $(\\mu+\\lambda)$  it is time to move onto a full GA.  This means you need to take account of two further steps.\n",
    "\n",
    "* A selection operator for breeding - in this instance you will use the provided `TournamentSelector`\n",
    "* A crossover operator for breeding - you will use `FacilityLocationSinglePointCrossover`\n",
    "\n",
    "See lecture slides for details of how these work.\n",
    "\n",
    "`metapy` provides standard and elitist GA strategies.  The code provided below demonstrates how these are instantiated and used to solve the sexual health clinic facility location problem.\n",
    "\n",
    "\n",
    "Below you will :\n",
    "* Run `GeneticAlgorithmStrategy` and `ElitistGeneticAlgorithmStrategy` using the parameters provided.\n",
    "* Compare the results of all above."
   ]
  },
  {
   "cell_type": "code",
   "execution_count": null,
   "metadata": {},
   "outputs": [],
   "source": [
    "%%time\n",
    "\n",
    "# Evolutionary Algorithm - Genetic Algorithm strategy\n",
    "\n",
    "n_candidates = 28\n",
    "n_facilities = 14\n",
    "\n",
    "_lambda = 200 \n",
    "\n",
    "# objective\n",
    "objective = WeightedAverageObjective(cases, travel_matrix)\n",
    "\n",
    "# initial solution generator\n",
    "init = FacilityLocationPopulationGenerator(n_candidates, n_facilities)\n",
    "\n",
    "# mutation operator\n",
    "mutator = BasicFacilityLocationMutator(n_candidates=n_candidates, \n",
    "                                       solution_size=n_facilities, \n",
    "                                       mutation_rate=0.2, verbose=False)\n",
    "\n",
    "# cross over operator\n",
    "x_over = FacilityLocationSinglePointCrossOver()\n",
    "\n",
    "#GA strategy\n",
    "strategy = GeneticAlgorithmStrategy(_lambda, \n",
    "                                    selector=TournamentSelector(),\n",
    "                                    xoperator=x_over,\n",
    "                                    mutator=mutator)\n",
    "\n",
    "\n",
    "solver = EvolutionaryAlgorithm(init, objective,_lambda, strategy, \n",
    "                               maximisation=False, generations=50)\n",
    "print(\"\\nRunning Genetic Algorithm\")\n",
    "solver.solve()\n",
    "\n",
    "print(\"\\n** GA OUTPUT ***\")\n",
    "print(\"best cost:\\t{0}\".format(solver.best_fitness))\n",
    "print(\"best solutions:\")\n",
    "print(solver.best_solution)\n",
    "\n",
    "_results['ga'] = solver.best_fitness"
   ]
  },
  {
   "cell_type": "code",
   "execution_count": null,
   "metadata": {
    "scrolled": true
   },
   "outputs": [],
   "source": [
    "%%time \n",
    "\n",
    "# Evolutionary Algorithm - Elistist Genetic Algorithm strategy\n",
    "\n",
    "n_candidates = 28\n",
    "n_facilities = 14\n",
    "\n",
    "# GA parameters\n",
    "mu = 10 \n",
    "_lambda = 200\n",
    "\n",
    "# objective\n",
    "objective = WeightedAverageObjective(cases, travel_matrix)\n",
    "\n",
    "# initial solution generator\n",
    "init = FacilityLocationPopulationGenerator(n_candidates, n_facilities)\n",
    "\n",
    "# mutation operator\n",
    "mutator = BasicFacilityLocationMutator(n_candidates=n_candidates, \n",
    "                                       solution_size=n_facilities, \n",
    "                                       mutation_rate=0.2, verbose=False)\n",
    "\n",
    "# cross over operator\n",
    "x_over = FacilityLocationSinglePointCrossOver()\n",
    "\n",
    "# GA strategy\n",
    "strategy = ElitistGeneticAlgorithmStrategy(mu,\n",
    "                                           _lambda, \n",
    "                                           selector=TournamentSelector(),\n",
    "                                           xoperator=x_over,\n",
    "                                           mutator=mutator)\n",
    "\n",
    "\n",
    "solver = EvolutionaryAlgorithm(init,\n",
    "                               objective,\n",
    "                               _lambda,\n",
    "                               strategy, \n",
    "                               maximisation=False, generations=50)\n",
    "print(\"\\nRunning Elitist Genetic Algorithm\")\n",
    "solver.solve()\n",
    "\n",
    "print(\"\\n** ELITIST GA OUTPUT ***\")\n",
    "print(\"best cost:\\t{0}\".format(solver.best_fitness))\n",
    "print(\"best solutions:\")\n",
    "print(solver.best_solution)\n",
    "\n",
    "_results['ga_elitism'] = solver.best_fitness"
   ]
  },
  {
   "cell_type": "markdown",
   "metadata": {},
   "source": [
    "Comparing results...."
   ]
  },
  {
   "cell_type": "code",
   "execution_count": null,
   "metadata": {},
   "outputs": [],
   "source": [
    "_results"
   ]
  },
  {
   "cell_type": "code",
   "execution_count": null,
   "metadata": {},
   "outputs": [],
   "source": [
    "optimal_index = np.argmin(_results)\n",
    "\n",
    "# Create axis on which to generate the chart\n",
    "fig, ax = plt.subplots(1, 1, figsize=(8, 5))\n",
    "\n",
    "barlist = ax.bar(_results.keys(), _results.values())\n",
    "optimal_index = np.argmin(_results.values())\n",
    "barlist[optimal_index].set_color('r')\n"
   ]
  },
  {
   "cell_type": "markdown",
   "metadata": {},
   "source": [
    "# End"
   ]
  }
 ],
 "metadata": {
  "kernelspec": {
   "display_name": "Python 3 (ipykernel)",
   "language": "python",
   "name": "python3"
  },
  "language_info": {
   "codemirror_mode": {
    "name": "ipython",
    "version": 3
   },
   "file_extension": ".py",
   "mimetype": "text/x-python",
   "name": "python",
   "nbconvert_exporter": "python",
   "pygments_lexer": "ipython3",
   "version": "3.9.16"
  }
 },
 "nbformat": 4,
 "nbformat_minor": 4
}
