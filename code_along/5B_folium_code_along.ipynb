{
 "cells": [
  {
   "cell_type": "markdown",
   "id": "7ac24beb",
   "metadata": {},
   "source": [
    "<a name=\"top\">Top of page</a>\n",
    "## 5B - Hands on Building of a Geographic Model\n",
    "### Interactive Maps with Folium Code Along\n",
    "\n",
    "During this session we'll be looking at how to create interactive maps, using Folium. We'll be covering:\n",
    "\n",
    "- [Accessing Help](#acc_help)\n",
    "- [ Adding Additional Background Layers](#add_lay)\n",
    "- [Generate Folium Map](#gen_map)\n",
    "- [Generating a Folium Map around a Specific Location](#map_spec_loc)\n",
    "- [Saving a Folium Map](#save_map)\n",
    "- [Adding Markers](#add_mark)\n",
    "- [Adding Custom Markers](#map_cm_fa)\n",
    "- [Circle Markers](#circle_markers)\n",
    "- [Plot a Route](#route_plot)\n",
    "- [Plot an Ant Path](#ant_path)\n",
    "- [Choropleth Map](#choropleth)\n",
    "- [Dual Maps](#dual_maps)\n",
    "\n",
    "#### Useful Links\n",
    "\n",
    "- [Folium Documentation](https://python-visualization.github.io/folium/)\n",
    "- [Lat Long Finder](https://www.latlong.net/)\n",
    "\n",
    "**Note** Using line numbers within cells may aid readability. Press `Shift` + `L` to toggle on/ off."
   ]
  },
  {
   "cell_type": "code",
   "execution_count": null,
   "id": "3341d7bb",
   "metadata": {},
   "outputs": [],
   "source": [
    "# Library Imports\n",
    "import folium\n",
    "from folium import plugins\n",
    "import pandas as pd\n",
    "import json"
   ]
  },
  {
   "cell_type": "markdown",
   "id": "abfea70f",
   "metadata": {},
   "source": [
    "<a name=\"acc_help\">Accesing Help</a>\n",
    "#### Accesing Help\n",
    "\n",
    "It is possible to pull up help via a docstring by using the `?` suffix.\n",
    "This pop up box can be closed by clicking on the `X` found on the top right."
   ]
  },
  {
   "cell_type": "code",
   "execution_count": null,
   "id": "58f5c263",
   "metadata": {},
   "outputs": [],
   "source": [
    "folium.Map?"
   ]
  },
  {
   "cell_type": "markdown",
   "id": "bcec4a41",
   "metadata": {},
   "source": [
    "<a name=\"gen_map\">Generate Folium Map</a>\n",
    "#### Generate Folium Map\n",
    "\n",
    "Using just 12 characters we'll be able to generate an interactive map!"
   ]
  },
  {
   "cell_type": "code",
   "execution_count": null,
   "id": "cb73074e",
   "metadata": {},
   "outputs": [],
   "source": [
    "folium.Map()"
   ]
  },
  {
   "cell_type": "markdown",
   "id": "39b75e02",
   "metadata": {},
   "source": [
    "<a name=\"map_spec_loc\">Generating a Folium Map around a Specific Location</a>\n",
    "#### Generating a Folium Map around a Specific Location\n",
    "\n",
    "Below we'll add a location (using latitude and longitude coordinates) and also set the zoom. The higher the zoom value to more zoomed in the map will be when generated."
   ]
  },
  {
   "cell_type": "code",
   "execution_count": null,
   "id": "67a98c59",
   "metadata": {},
   "outputs": [],
   "source": [
    "map1 = folium.Map(location=[50.7224, -3.5166],\n",
    "                  zoom_start=12)\n",
    "map1"
   ]
  },
  {
   "cell_type": "markdown",
   "id": "3f61c06b",
   "metadata": {},
   "source": [
    "<a name=\"add_lay\">Adding Additional Background Layers</a>\n",
    "#### Adding Additional Background Layers\n",
    "\n",
    "You can select different background layers by adding them into TileLayer and then adding a `LayerControl` to the map."
   ]
  },
  {
   "cell_type": "code",
   "execution_count": null,
   "id": "9f0936da",
   "metadata": {},
   "outputs": [],
   "source": [
    "map1 = folium.Map(location=[50.7224, -3.5166],\n",
    "                  zoom_start=12)\n",
    "\n",
    "\n",
    "# Adding additional background layers\n",
    "tiles = ['stamenwatercolor', 'cartodbpositron', 'cartodbdark_matter', \n",
    "         'openstreetmap', 'stamenterrain', 'stamentoner']\n",
    "\n",
    "for tile in tiles:\n",
    "    folium.TileLayer(tile).add_to(map1)\n",
    "\n",
    "folium.LayerControl().add_to(map1)\n",
    "\n",
    "map1"
   ]
  },
  {
   "cell_type": "markdown",
   "id": "280b4d3d",
   "metadata": {},
   "source": [
    "<a name=\"save_map\">Saving a Folium Map</a>\n",
    "#### Saving a Folium Map\n",
    "\n",
    "Below we will generate a map and save it as a HTML file.\n",
    "\n",
    "Once the cell below has been executed, take a look at the HTML file that has been saved on your machine."
   ]
  },
  {
   "cell_type": "code",
   "execution_count": null,
   "id": "cbc865c7",
   "metadata": {},
   "outputs": [],
   "source": [
    "# create the map object\n",
    "map2 = folium.Map(location=[51.472099, -0.452730], zoom_start=10)\n",
    "\n",
    "# specify location and save\n",
    "map2.save('map2.html')"
   ]
  },
  {
   "cell_type": "code",
   "execution_count": null,
   "id": "574ccdc9",
   "metadata": {},
   "outputs": [],
   "source": [
    "# confirm that the map in the HTML file matches what was generated\n",
    "map2"
   ]
  },
  {
   "cell_type": "markdown",
   "id": "fabb96a5",
   "metadata": {},
   "source": [
    "<a name=\"add_mark\"> Adding Markers </a>\n",
    "#### Adding Markers\n",
    "\n",
    "You can add markers (\"pins\") to your map. There are a couple of ways to do this, however the method using a CSV (via) Pandas DataFrame is shown below."
   ]
  },
  {
   "cell_type": "code",
   "execution_count": null,
   "id": "5402bbab",
   "metadata": {},
   "outputs": [],
   "source": [
    "airports = pd.read_csv('../data/airports.csv')\n",
    "airports.head()"
   ]
  },
  {
   "cell_type": "code",
   "execution_count": null,
   "id": "fa0f93e5",
   "metadata": {},
   "outputs": [],
   "source": [
    "# multiple markers using dataframe\n",
    "# there is an example below using apply function instead of loop\n",
    "\n",
    "# create map\n",
    "map_airports = folium.Map(location=[53.945190, -2.520690], zoom_start=5)\n",
    "\n",
    "# plot airport locations\n",
    "for (index, row) in airports.iterrows():\n",
    "    folium.Marker(location=[row.loc['Lat'], row.loc['Long']], \n",
    "                  # the text within the pop-up is defined below\n",
    "                  # in this example the string is a concatenation of multiple columns\n",
    "                  # of the `airports` dataframe.\n",
    "                  popup=row.loc['Name'] + ' (' + row.loc['Code'] + ')' , \n",
    "                  # the text within the (hover over) tool-top is defined below\n",
    "                  tooltip='Click Here!').add_to(map_airports)\n",
    "\n",
    "# display map    \n",
    "map_airports"
   ]
  },
  {
   "cell_type": "markdown",
   "id": "94729a32",
   "metadata": {},
   "source": [
    "<a name=\"map_cm_fa\">Adding Custom Markers</a>\n",
    "#### Adding Custom Markers\n",
    "\n",
    "You can specify the icons used within the markers.\n",
    "\n",
    "See [Font Awesome](https://fontawesome.com/icons?d=gallery) for a list of available icons. Remember the 'fa' prefix."
   ]
  },
  {
   "cell_type": "code",
   "execution_count": null,
   "id": "47c3dcba",
   "metadata": {},
   "outputs": [],
   "source": [
    "# map\n",
    "map_cm_fa = folium.Map(location=[54, -2], zoom_start=6)\n",
    "\n",
    "## add custom marker to map\n",
    "## the prefix='fa' is required to find the icon\n",
    "# comment/ uncomment out the below\n",
    "folium.Marker(location=[54, -2], \n",
    "              popup='Some random point...', \n",
    "              icon=folium.Icon(color='blue',\n",
    "                               icon='stethoscope',\n",
    "                               prefix='fa')).add_to(map_cm_fa)\n",
    "\n",
    "folium.Marker(location=[53, -2.5], \n",
    "              popup='Some other random point...', \n",
    "              icon=folium.Icon(color='red',\n",
    "                               icon='heart',\n",
    "                               prefix='fa')).add_to(map_cm_fa)\n",
    "\n",
    "folium.Marker(location=[51, -1.8], \n",
    "              popup='Some other random point, too...', \n",
    "              icon=folium.Icon(color='green',\n",
    "                               icon='eye',\n",
    "                               prefix='fa')).add_to(map_cm_fa)\n",
    "\n",
    "## Or a 'for loop' could be used...\n",
    "## uncomment/ comment out the below\n",
    "## could use a DF instead of tuple of lists\n",
    "# icon_locations = [([54, -2], 'blue', 'stethoscope'),\n",
    "#                   ([53, -2.5], 'red', 'heart'),\n",
    "#                   ([51, -1.8], 'green', 'eye')]\n",
    "\n",
    "# for i in icon_locations:\n",
    "#     folium.Marker(location=[i[0][0], i[0][1]], \n",
    "#                   popup='Some other random point, too...', \n",
    "#                   icon=folium.Icon(color=i[1],\n",
    "#                                    icon=i[2],\n",
    "#                                    prefix='fa')).add_to(map_cm_fa)\n",
    "\n",
    "# display map\n",
    "map_cm_fa"
   ]
  },
  {
   "cell_type": "code",
   "execution_count": null,
   "id": "ed4edbea",
   "metadata": {},
   "outputs": [],
   "source": [
    "# Find out what colour params are available for icons.\n",
    "folium.Icon?"
   ]
  },
  {
   "cell_type": "markdown",
   "id": "01551ffe",
   "metadata": {},
   "source": [
    "<a name=\"circle_markers\"> Circle Markers </a>\n",
    "#### Circle Markers\n",
    "\n",
    "Instead of standard or custom markers (pins) you can also use hollow circles. These may have their size defined by either meters or (screen) pixels using `.Circle` or `.CircleMarker` respectively.\n",
    "\n",
    "Try zooming in and out from the current location."
   ]
  },
  {
   "cell_type": "code",
   "execution_count": null,
   "id": "db87e961",
   "metadata": {},
   "outputs": [],
   "source": [
    "# map\n",
    "map_circle = folium.Map(location=[51.421082, -1.730270], zoom_start=8)\n",
    "\n",
    "# radius of the circle in meters\n",
    "# using .Circle\n",
    "folium.Circle(radius=10000,\n",
    "              location=[51.385509, -2.704020],\n",
    "              color='green').add_to(map_circle)\n",
    "\n",
    "# circle of a fixed size with radius specified in pixels\n",
    "# using .CircleMarker\n",
    "folium.CircleMarker(location=[51.472099, -0.452730],\n",
    "                    radius=25,\n",
    "                    color='blue').add_to(map_circle)\n",
    "\n",
    "# display map\n",
    "map_circle"
   ]
  },
  {
   "cell_type": "markdown",
   "id": "720707ac",
   "metadata": {},
   "source": [
    "<a name=\"route_plot\"> Plot a Route </a>\n",
    "#### Plot a Route\n",
    "\n",
    "It is possible to plot a route on a map by simply providing the coordinates within a list. These must be in the correct sequence."
   ]
  },
  {
   "cell_type": "code",
   "execution_count": null,
   "id": "6ad7fc55",
   "metadata": {},
   "outputs": [],
   "source": [
    "# map\n",
    "map_plot_route = folium.Map(location=[53, -2.5], zoom_start=5)\n",
    "\n",
    "# can use list of lists or list of tuples\n",
    "# in this case we will use the `airports` DF as already imported.\n",
    "# ??? Have you see chaining before?\n",
    "\n",
    "visits = ['EDI', 'MAN', 'BHX', 'STN', 'LGW']\n",
    "\n",
    "route_lats_longs = (airports[['Lat', 'Long']][airports.Code.isin(visits)]\n",
    "                    .sort_values(by='Lat', ascending=False)\n",
    "                    .values\n",
    "                    .tolist())\n",
    "\n",
    "# add route to map\n",
    "folium.PolyLine(route_lats_longs).add_to(map_plot_route)\n",
    "\n",
    "# display map\n",
    "map_plot_route"
   ]
  },
  {
   "cell_type": "markdown",
   "id": "dab27851",
   "metadata": {},
   "source": [
    "<a name=\"ant_path\"> Plot an Ant Path </a>\n",
    "#### Plot an Ant Path\n",
    "\n",
    "Using the route/ points defined above, will create a 'moving' line along the route, AKA 'ant path'."
   ]
  },
  {
   "cell_type": "code",
   "execution_count": null,
   "id": "5589f01b",
   "metadata": {
    "scrolled": true
   },
   "outputs": [],
   "source": [
    "# map\n",
    "map_ant_route = folium.Map(location=[53, -2.5], zoom_start=6)\n",
    "\n",
    "# add ant path route to map\n",
    "plugins.AntPath(route_lats_longs).add_to(map_ant_route)\n",
    "\n",
    "# display map\n",
    "map_ant_route"
   ]
  },
  {
   "cell_type": "code",
   "execution_count": null,
   "id": "fa63d767",
   "metadata": {},
   "outputs": [],
   "source": [
    "# This can even be saved as an HTML!\n",
    "map_ant_route.save('map_ant_route.html')"
   ]
  },
  {
   "cell_type": "markdown",
   "id": "62f1b0d4",
   "metadata": {},
   "source": [
    "<a name=\"choropleth\">Choropleth Map</a>\n",
    "#### Choropleth Map\n",
    "\n",
    "You can create a choropleth map too. However, this will require two different things:\n",
    "1) file containing shapes - below we will use a GeoJSON (in 5D on 31 January we will look at GeoPandas)\n",
    "2) file containing the numerical values that will determine the colours.\n",
    "**Remember that there must be some way to link, or join the two assets above i.e. LSOA.**"
   ]
  },
  {
   "cell_type": "code",
   "execution_count": null,
   "id": "7b2551c9",
   "metadata": {},
   "outputs": [],
   "source": [
    "# load geo_json\n",
    "# shapefiles can be converted to geojson with QGIS\n",
    "with open('../data/geojson_indiana_counties.geojson') as f:\n",
    "    geojson_counties = json.load(f)\n",
    "    \n",
    "# add feature 'id' county name to geojson\n",
    "# access features\n",
    "for i in geojson_counties['features']:\n",
    "    i['id'] = i['properties']['NAME_L']\n",
    "    \n",
    "# load data associated with geo_json\n",
    "pop_df = pd.read_csv('../data/indiana_population_by_county.csv')\n",
    "    \n",
    "# map    \n",
    "map_choropleth = folium.Map(location=[39.77, -86.15], zoom_start=7)\n",
    "\n",
    "# choropleth\n",
    "folium.Choropleth(\n",
    "    geo_data=geojson_counties,\n",
    "    name='choropleth',\n",
    "    data=pop_df,\n",
    "    columns=['County', 'Population'],\n",
    "    # see folium.Choropleth? for details on key_on\n",
    "    key_on='feature.id',\n",
    "    fill_color='YlGn',\n",
    "    fill_opacity=0.5,\n",
    "    line_opacity=0.5,\n",
    "    legend_name='Population',\n",
    "    highlight=True\n",
    ").add_to(map_choropleth)\n",
    "\n",
    "# layer control to turn choropleth on or off\n",
    "folium.LayerControl().add_to(map_choropleth)\n",
    "\n",
    "# display map\n",
    "map_choropleth\n"
   ]
  },
  {
   "cell_type": "markdown",
   "id": "2b6d0a05",
   "metadata": {},
   "source": [
    "<a name=\"dual_maps\">Dual Maps</a>\n",
    "#### Dual Maps\n",
    "\n",
    "It is possible to generate two maps, side by side. Zoom on one will control the other. You'll notice that they have different background layers applied."
   ]
  },
  {
   "cell_type": "code",
   "execution_count": null,
   "id": "6589464b",
   "metadata": {},
   "outputs": [],
   "source": [
    "# dual map\n",
    "map_dual = plugins.DualMap(location=[53, -2.5],\n",
    "                           tiles=None,\n",
    "                           zoom_start=4)\n",
    "\n",
    "# map tiles\n",
    "folium.TileLayer('Stamen Terrain').add_to(map_dual)\n",
    "folium.TileLayer('CartoDB Positron').add_to(map_dual)\n",
    "\n",
    "# add layer control to maps\n",
    "folium.LayerControl().add_to(map_dual)\n",
    "\n",
    "# display map(s)\n",
    "map_dual"
   ]
  }
 ],
 "metadata": {
  "kernelspec": {
   "display_name": "Python 3 (ipykernel)",
   "language": "python",
   "name": "python3"
  },
  "language_info": {
   "codemirror_mode": {
    "name": "ipython",
    "version": 3
   },
   "file_extension": ".py",
   "mimetype": "text/x-python",
   "name": "python",
   "nbconvert_exporter": "python",
   "pygments_lexer": "ipython3",
   "version": "3.8.12"
  }
 },
 "nbformat": 4,
 "nbformat_minor": 5
}
