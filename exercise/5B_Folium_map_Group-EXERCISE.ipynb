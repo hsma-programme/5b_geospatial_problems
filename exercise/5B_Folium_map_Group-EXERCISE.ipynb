{
 "cells": [
  {
   "cell_type": "markdown",
   "id": "db61bfeb",
   "metadata": {},
   "source": [
    "## 5B - Hands on Building of an Interactive Folium Map\n",
    "### Group Exercise\n",
    "\n",
    "Following the 'Hands on Building of an Interactive Folium Map' code along, it is time for you to use what you have learned to create a Folium choropleth map of your own. By the end of this exercise you should have generated a choropleth map that looks like the one below.\n",
    "\n",
    "<img src=\"./img/final_folium_map.png\" width=\"400\" height=\"400\" />\n",
    "\n",
    "Remember to refer to the Code Along notebook as all the code you will require can be found in there.\n",
    "\n",
    "##### Requirements\n",
    "\n",
    "1. Create a Folium choropleth map (using tile *'cartodbpositron'*) that has five markers; these relate to health service locations.\n",
    "2. The tool tip for each marker should be its respective name.\n",
    "3. The pop-up for each marker should be a string similar to the following : \"The postcode for Cambourne Redruth Community Hospital (CRCH) is TR15 3ER\" \n",
    "3. Overlay a choropleth map of the Cornwall area with colours representing travel time from the respective LSOA to the nearest clinic.\n",
    "\n",
    "\n",
    "To assist with this task you are provided with three data files (found in the `data` subfolder).\n",
    "1. `clinic_locations.csv ` provides the name and location details of the five clinics. Take care with column name cases.\n",
    "2. `clinic_travel_times.csv` contains the travel times (in minutes) from the respective LSOA to the nearest clinic\n",
    "3. `cornwall.geojson` provides the shape data for each of the LSOAs in Cornwall. Similar to the example in the code along, ensure that you copy the LSOA11CD value to a new key, as demonstrated below (feel free to copy and paste this code).\n",
    "\n",
    "```python\n",
    "for i in geojson_cornwall['features']:\n",
    "    i['id'] = i['properties']['LSOA11CD']\n",
    "```"
   ]
  },
  {
   "cell_type": "code",
   "execution_count": null,
   "id": "76cd6c31",
   "metadata": {},
   "outputs": [],
   "source": [
    "# Importing libraries\n",
    "import folium\n",
    "from folium import plugins\n",
    "import pandas as pd\n",
    "import json"
   ]
  },
  {
   "cell_type": "code",
   "execution_count": null,
   "id": "0c682ef9",
   "metadata": {},
   "outputs": [],
   "source": [
    "# Your code goes below"
   ]
  },
  {
   "cell_type": "code",
   "execution_count": null,
   "id": "e19a8025",
   "metadata": {},
   "outputs": [],
   "source": []
  },
  {
   "cell_type": "code",
   "execution_count": null,
   "id": "87fcf1da",
   "metadata": {},
   "outputs": [],
   "source": []
  },
  {
   "cell_type": "code",
   "execution_count": null,
   "id": "420ee079",
   "metadata": {},
   "outputs": [],
   "source": []
  },
  {
   "cell_type": "code",
   "execution_count": null,
   "id": "d16956a5",
   "metadata": {},
   "outputs": [],
   "source": []
  },
  {
   "cell_type": "code",
   "execution_count": null,
   "id": "b6244b21",
   "metadata": {},
   "outputs": [],
   "source": []
  },
  {
   "cell_type": "code",
   "execution_count": null,
   "id": "fcf3f051",
   "metadata": {},
   "outputs": [],
   "source": []
  },
  {
   "cell_type": "code",
   "execution_count": null,
   "id": "57df6513",
   "metadata": {},
   "outputs": [],
   "source": []
  },
  {
   "cell_type": "code",
   "execution_count": null,
   "id": "5eb42f54",
   "metadata": {},
   "outputs": [],
   "source": []
  }
 ],
 "metadata": {
  "kernelspec": {
   "display_name": "Python 3 (ipykernel)",
   "language": "python",
   "name": "python3"
  },
  "language_info": {
   "codemirror_mode": {
    "name": "ipython",
    "version": 3
   },
   "file_extension": ".py",
   "mimetype": "text/x-python",
   "name": "python",
   "nbconvert_exporter": "python",
   "pygments_lexer": "ipython3",
   "version": "3.9.16"
  }
 },
 "nbformat": 4,
 "nbformat_minor": 5
}
