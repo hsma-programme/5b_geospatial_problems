{
 "cells": [
  {
   "cell_type": "markdown",
   "id": "b07b8431",
   "metadata": {},
   "source": [
    "<a name=\"top\">\n",
    "    Top of page\n",
    "</a>\n",
    "\n",
    "## 5B - Hands on Building of a Geographic Model\n",
    "### Facility Location Problems - Group Exercise\n",
    "\n",
    "Working in your PSGs, use what you have just observed (and learned) to tackle the following case study. In the cells below there will be omissions (denoted with **\\*\\***) that need to be completed correctly to move on to the next step.\n",
    "\n",
    "\n",
    "#### Case Study: TIA Clinics in Cornwall\n",
    "\n",
    "Transient Ischaemic Attacks (TIAs) are a minor type of stroke (disruption of blood flow to the brain) where symptoms may last for up to 24 hours. TIAs can be important predictors of major strokes. These can can be fatal or cause substantial disability. Therefore, it is important for patients to have suitable and equitable access to a specialist TIA clinic shortly after their symptoms occur.\n",
    "\n",
    "This case study is set in Cornwall where TIA patients are currently assessed and treated at five clinic locations. Due to funding constraints not all locations are open every day. The locations are:\n",
    "\n",
    "* Royal Cornwall Hospital Trust (RCHT)\n",
    "* Cambourne Redruth Community Hospital (CRCH)\n",
    "* St. Austell Community Hospital (SACH)\n",
    "* Bodmin Community Hospital (BODMIN)\n",
    "* West Cornwall Hospital (WCH)\n",
    "\n",
    "Local NHS commissioners are considering the future of the service. They feel that five clinic locations is leading to variation in the quality of patient treatment and would like to **consolidate to three locations.** \n",
    "\n",
    "*They have asked for our help in making and supporting their decision making.*\n",
    "\n",
    "The data provided comprises of:\n",
    "\n",
    "* *tia_travel_matrix.csv* - Travel time matrix from different locations\n",
    "* *tia_attendances.csv* - Number of TIA clinic attendances per LSOA\n",
    "\n",
    "Similar to the demonstration, you will be following the steps below within this notebook:\n",
    "\n",
    "[1. Library Imports](#lib_imports)\\\n",
    "[2. Data Imports](#data_imports)\\\n",
    "[3. Representing a Solution](#rep_sol)\\\n",
    "[4. Constructing a Random Solution](#cons_random)\\\n",
    "[5. Evaluating a Solution](#eval_sol)\\\n",
    "[6. Enumerating all Possible Combinations](#small_prob)\\\n",
    "[7. Bruteforce](#bruteforce)\\\n",
    "[8. Graphical Representation](#bar_chart)\n",
    "\n",
    "\n",
    "**Note** Using line numbers within cells may aid readability. Press `Shift` + `L` to toggle on/ off."
   ]
  },
  {
   "cell_type": "markdown",
   "id": "fbd35012",
   "metadata": {},
   "source": [
    "### 1. Library Imports\n",
    "<a name=\"lib_imports\">\n",
    "   Code to Import Libraries\n",
    "</a>\n",
    "\n",
    "Step 1. Do you remember which *standard* libraries were imported during the demonstration? Import them again to complete the rest of this exercise. **Hint - there are 3**\n",
    "\n",
    "Because we're nice, we've already provided the two additional libraries."
   ]
  },
  {
   "cell_type": "code",
   "execution_count": 1,
   "id": "d4a37dda",
   "metadata": {},
   "outputs": [],
   "source": [
    "# update the code below\n",
    "import pandas as pd\n",
    "import numpy as np\n",
    "import matplotlib.pyplot as plt\n",
    "\n",
    "\n",
    "# Additionally, we'll also use....\n",
    "# combinations from the itertools library allows us to enumerate all \n",
    "# solutions (for small instances).\n",
    "from itertools import combinations\n",
    "\n",
    "# Metapy package imports\n",
    "# Required for a Weighted Average Objective\n",
    "# Ensure you have the 'metapy' folder (and contents) within your \n",
    "# current working directory\n",
    "from metapy.evolutionary.evolutionary import WeightedAverageObjective"
   ]
  },
  {
   "cell_type": "markdown",
   "id": "7e96615a",
   "metadata": {},
   "source": [
    "### 2. Data Imports\n",
    "<a name=\"data_imports\">\n",
    "   Code to Import Data\n",
    "</a>\n",
    "\n",
    "Step 2 is to import the travel matrix file named `tia_travel_matrix.csv` and check that the file has been read correctly. This file is saved in the same location as the clinic car travel time, shown in the demonstration. Define the index as `LSOA11CD`"
   ]
  },
  {
   "cell_type": "code",
   "execution_count": 2,
   "id": "463fd35f",
   "metadata": {},
   "outputs": [
    {
     "data": {
      "text/html": [
       "<div>\n",
       "<style scoped>\n",
       "    .dataframe tbody tr th:only-of-type {\n",
       "        vertical-align: middle;\n",
       "    }\n",
       "\n",
       "    .dataframe tbody tr th {\n",
       "        vertical-align: top;\n",
       "    }\n",
       "\n",
       "    .dataframe thead th {\n",
       "        text-align: right;\n",
       "    }\n",
       "</style>\n",
       "<table border=\"1\" class=\"dataframe\">\n",
       "  <thead>\n",
       "    <tr style=\"text-align: right;\">\n",
       "      <th></th>\n",
       "      <th>SACH</th>\n",
       "      <th>BODMIN</th>\n",
       "      <th>RCHT</th>\n",
       "      <th>CRCH</th>\n",
       "      <th>WCH</th>\n",
       "    </tr>\n",
       "    <tr>\n",
       "      <th>sector</th>\n",
       "      <th></th>\n",
       "      <th></th>\n",
       "      <th></th>\n",
       "      <th></th>\n",
       "      <th></th>\n",
       "    </tr>\n",
       "  </thead>\n",
       "  <tbody>\n",
       "    <tr>\n",
       "      <th>E01018750</th>\n",
       "      <td>40</td>\n",
       "      <td>31</td>\n",
       "      <td>60</td>\n",
       "      <td>66</td>\n",
       "      <td>87</td>\n",
       "    </tr>\n",
       "    <tr>\n",
       "      <th>E01018751</th>\n",
       "      <td>40</td>\n",
       "      <td>31</td>\n",
       "      <td>60</td>\n",
       "      <td>66</td>\n",
       "      <td>87</td>\n",
       "    </tr>\n",
       "    <tr>\n",
       "      <th>E01018752</th>\n",
       "      <td>41</td>\n",
       "      <td>32</td>\n",
       "      <td>61</td>\n",
       "      <td>67</td>\n",
       "      <td>88</td>\n",
       "    </tr>\n",
       "    <tr>\n",
       "      <th>E01018753</th>\n",
       "      <td>43</td>\n",
       "      <td>34</td>\n",
       "      <td>64</td>\n",
       "      <td>69</td>\n",
       "      <td>90</td>\n",
       "    </tr>\n",
       "    <tr>\n",
       "      <th>E01018754</th>\n",
       "      <td>46</td>\n",
       "      <td>38</td>\n",
       "      <td>67</td>\n",
       "      <td>72</td>\n",
       "      <td>93</td>\n",
       "    </tr>\n",
       "  </tbody>\n",
       "</table>\n",
       "</div>"
      ],
      "text/plain": [
       "           SACH  BODMIN  RCHT  CRCH  WCH\n",
       "sector                                  \n",
       "E01018750    40      31    60    66   87\n",
       "E01018751    40      31    60    66   87\n",
       "E01018752    41      32    61    67   88\n",
       "E01018753    43      34    64    69   90\n",
       "E01018754    46      38    67    72   93"
      ]
     },
     "execution_count": 2,
     "metadata": {},
     "output_type": "execute_result"
    }
   ],
   "source": [
    "# your code goes here ...\n",
    "travel_matrix = pd.read_csv('./data/tia_travel_matrix.csv', \n",
    "                            index_col='sector')\n",
    "travel_matrix.head()"
   ]
  },
  {
   "cell_type": "markdown",
   "id": "34bb6df6",
   "metadata": {},
   "source": [
    "Step 3 is to import the number of `tia_attendances.csv` file (in the same location). Again, check it's been read correctly and remember to set the index to `LSOA11CD`."
   ]
  },
  {
   "cell_type": "code",
   "execution_count": 3,
   "id": "e5aa339a",
   "metadata": {},
   "outputs": [
    {
     "data": {
      "text/html": [
       "<div>\n",
       "<style scoped>\n",
       "    .dataframe tbody tr th:only-of-type {\n",
       "        vertical-align: middle;\n",
       "    }\n",
       "\n",
       "    .dataframe tbody tr th {\n",
       "        vertical-align: top;\n",
       "    }\n",
       "\n",
       "    .dataframe thead th {\n",
       "        text-align: right;\n",
       "    }\n",
       "</style>\n",
       "<table border=\"1\" class=\"dataframe\">\n",
       "  <thead>\n",
       "    <tr style=\"text-align: right;\">\n",
       "      <th></th>\n",
       "      <th>n_patients</th>\n",
       "    </tr>\n",
       "    <tr>\n",
       "      <th>sector</th>\n",
       "      <th></th>\n",
       "    </tr>\n",
       "  </thead>\n",
       "  <tbody>\n",
       "    <tr>\n",
       "      <th>E01018757</th>\n",
       "      <td>3</td>\n",
       "    </tr>\n",
       "    <tr>\n",
       "      <th>E01018758</th>\n",
       "      <td>10</td>\n",
       "    </tr>\n",
       "    <tr>\n",
       "      <th>E01018761</th>\n",
       "      <td>19</td>\n",
       "    </tr>\n",
       "    <tr>\n",
       "      <th>E01018763</th>\n",
       "      <td>2</td>\n",
       "    </tr>\n",
       "    <tr>\n",
       "      <th>E01018768</th>\n",
       "      <td>6</td>\n",
       "    </tr>\n",
       "  </tbody>\n",
       "</table>\n",
       "</div>"
      ],
      "text/plain": [
       "           n_patients\n",
       "sector               \n",
       "E01018757           3\n",
       "E01018758          10\n",
       "E01018761          19\n",
       "E01018763           2\n",
       "E01018768           6"
      ]
     },
     "execution_count": 3,
     "metadata": {},
     "output_type": "execute_result"
    }
   ],
   "source": [
    "# your code goes here ...\n",
    "attends = pd.read_csv('./data/tia_attendances.csv', \n",
    "                            index_col='sector')\n",
    "attends.head()"
   ]
  },
  {
   "cell_type": "markdown",
   "id": "6564ff08",
   "metadata": {},
   "source": [
    "### 3. Representing a Solution\n",
    "<a name=\"rep_sol\">\n",
    "   Code to Represent a Proposed Solution\n",
    "</a>\n",
    "\n",
    "From the above you'll have seen that you've been provided with a travel matrix containing 5 clinic locations. For this case study, the 'solution' will comprise of 3 proposed clinics.\n",
    "\n",
    "Step 4-A is to manually define a solution array with the index numbers of 3 clinics."
   ]
  },
  {
   "cell_type": "code",
   "execution_count": 4,
   "id": "879179df",
   "metadata": {},
   "outputs": [],
   "source": [
    "# your code goes here ...\n",
    "solution = np.array([1, 0, 3])"
   ]
  },
  {
   "cell_type": "markdown",
   "id": "e7a884e0",
   "metadata": {},
   "source": [
    "Step 4-B is to declare a mask variable that contains the respective columns from the travel matrix. "
   ]
  },
  {
   "cell_type": "code",
   "execution_count": 5,
   "id": "614307b0",
   "metadata": {},
   "outputs": [],
   "source": [
    "# your code goes here ...\n",
    "mask = travel_matrix.columns[solution]"
   ]
  },
  {
   "cell_type": "markdown",
   "id": "36494c6a",
   "metadata": {},
   "source": [
    "Step 4-C display the restrcited columns from the travel matrix, using mask from Step 4-B, above."
   ]
  },
  {
   "cell_type": "code",
   "execution_count": 6,
   "id": "cd43b2c7",
   "metadata": {},
   "outputs": [
    {
     "data": {
      "text/html": [
       "<div>\n",
       "<style scoped>\n",
       "    .dataframe tbody tr th:only-of-type {\n",
       "        vertical-align: middle;\n",
       "    }\n",
       "\n",
       "    .dataframe tbody tr th {\n",
       "        vertical-align: top;\n",
       "    }\n",
       "\n",
       "    .dataframe thead th {\n",
       "        text-align: right;\n",
       "    }\n",
       "</style>\n",
       "<table border=\"1\" class=\"dataframe\">\n",
       "  <thead>\n",
       "    <tr style=\"text-align: right;\">\n",
       "      <th></th>\n",
       "      <th>BODMIN</th>\n",
       "      <th>SACH</th>\n",
       "      <th>CRCH</th>\n",
       "    </tr>\n",
       "    <tr>\n",
       "      <th>sector</th>\n",
       "      <th></th>\n",
       "      <th></th>\n",
       "      <th></th>\n",
       "    </tr>\n",
       "  </thead>\n",
       "  <tbody>\n",
       "    <tr>\n",
       "      <th>E01018750</th>\n",
       "      <td>31</td>\n",
       "      <td>40</td>\n",
       "      <td>66</td>\n",
       "    </tr>\n",
       "    <tr>\n",
       "      <th>E01018751</th>\n",
       "      <td>31</td>\n",
       "      <td>40</td>\n",
       "      <td>66</td>\n",
       "    </tr>\n",
       "    <tr>\n",
       "      <th>E01018752</th>\n",
       "      <td>32</td>\n",
       "      <td>41</td>\n",
       "      <td>67</td>\n",
       "    </tr>\n",
       "    <tr>\n",
       "      <th>E01018753</th>\n",
       "      <td>34</td>\n",
       "      <td>43</td>\n",
       "      <td>69</td>\n",
       "    </tr>\n",
       "    <tr>\n",
       "      <th>E01018754</th>\n",
       "      <td>38</td>\n",
       "      <td>46</td>\n",
       "      <td>72</td>\n",
       "    </tr>\n",
       "    <tr>\n",
       "      <th>...</th>\n",
       "      <td>...</td>\n",
       "      <td>...</td>\n",
       "      <td>...</td>\n",
       "    </tr>\n",
       "    <tr>\n",
       "      <th>E01019076</th>\n",
       "      <td>9</td>\n",
       "      <td>10</td>\n",
       "      <td>38</td>\n",
       "    </tr>\n",
       "    <tr>\n",
       "      <th>E01033289</th>\n",
       "      <td>21</td>\n",
       "      <td>30</td>\n",
       "      <td>41</td>\n",
       "    </tr>\n",
       "    <tr>\n",
       "      <th>E01033291</th>\n",
       "      <td>18</td>\n",
       "      <td>35</td>\n",
       "      <td>53</td>\n",
       "    </tr>\n",
       "    <tr>\n",
       "      <th>E01033292</th>\n",
       "      <td>18</td>\n",
       "      <td>35</td>\n",
       "      <td>53</td>\n",
       "    </tr>\n",
       "    <tr>\n",
       "      <th>E01033294</th>\n",
       "      <td>38</td>\n",
       "      <td>47</td>\n",
       "      <td>73</td>\n",
       "    </tr>\n",
       "  </tbody>\n",
       "</table>\n",
       "<p>326 rows × 3 columns</p>\n",
       "</div>"
      ],
      "text/plain": [
       "           BODMIN  SACH  CRCH\n",
       "sector                       \n",
       "E01018750      31    40    66\n",
       "E01018751      31    40    66\n",
       "E01018752      32    41    67\n",
       "E01018753      34    43    69\n",
       "E01018754      38    46    72\n",
       "...           ...   ...   ...\n",
       "E01019076       9    10    38\n",
       "E01033289      21    30    41\n",
       "E01033291      18    35    53\n",
       "E01033292      18    35    53\n",
       "E01033294      38    47    73\n",
       "\n",
       "[326 rows x 3 columns]"
      ]
     },
     "execution_count": 6,
     "metadata": {},
     "output_type": "execute_result"
    }
   ],
   "source": [
    "# your code goes here ...\n",
    "travel_matrix[mask]"
   ]
  },
  {
   "cell_type": "markdown",
   "id": "932d71ef",
   "metadata": {},
   "source": [
    "### 4. Constructing a Random Solution\n",
    "<a name=\"cons_random\">\n",
    "   Code to Represent a Proposed Solution\n",
    "</a>\n",
    "\n",
    "Now it's time to generate a random solution. Remember the `random_solution` function from the demonstration? Lets put it to use."
   ]
  },
  {
   "cell_type": "code",
   "execution_count": 7,
   "id": "8702e5b5",
   "metadata": {},
   "outputs": [],
   "source": [
    "def random_solution(n_candidates, p, random_seed=None):\n",
    "    '''\n",
    "    Helper function to generate a random solution\n",
    "    \n",
    "    Params\n",
    "    ------\n",
    "    n_candidates : int\n",
    "        The number of candidate locations where you could place \n",
    "        clinics (facilities).\n",
    "        \n",
    "    p : int\n",
    "        The number of clinics to place.\n",
    "        \n",
    "    random_seed : int (Default=None)\n",
    "        Random seed for reproducibility.\n",
    "    \n",
    "    Returns\n",
    "    -------\n",
    "    \n",
    "    Vector (np.array) of length p\n",
    "    '''\n",
    "    # create a random number generator\n",
    "    rng = np.random.default_rng(seed=random_seed)\n",
    "\n",
    "    # sample without replacement\n",
    "    solution = []\n",
    "    while len(solution) < p:\n",
    "        candidate = rng.integers(0, n_candidates)\n",
    "        if candidate not in solution:\n",
    "            solution.append(candidate)\n",
    "            \n",
    "    return np.array(solution)"
   ]
  },
  {
   "cell_type": "markdown",
   "id": "91f0a7a4",
   "metadata": {},
   "source": [
    "Step 5 is to generate and store a random initial solution using the function above. Remember to get the parameters for the number of candidates and clinics correct. To ensure reproducibility, set a random seed of 42."
   ]
  },
  {
   "cell_type": "code",
   "execution_count": 8,
   "id": "a22d783e",
   "metadata": {},
   "outputs": [
    {
     "data": {
      "text/plain": [
       "array([0, 3, 2])"
      ]
     },
     "execution_count": 8,
     "metadata": {},
     "output_type": "execute_result"
    }
   ],
   "source": [
    "# your code goes here ...\n",
    "init_solution = random_solution(5, 3, random_seed=42)\n",
    "init_solution"
   ]
  },
  {
   "cell_type": "markdown",
   "id": "b073212d",
   "metadata": {},
   "source": [
    "**Question:** In your groups, discuss how the `random_solution` and `random_solution2` functions differ. Does everyone in the group understand? Which is more elegant (and why)?"
   ]
  },
  {
   "cell_type": "markdown",
   "id": "4f72fea6",
   "metadata": {},
   "source": [
    "### 5. Evaluating a Solution\n",
    "<a name=\"eval_sol\">\n",
    "   Code to Represent a Proposed Solution\n",
    "</a>\n",
    "\n",
    "We've now got everything we need to evaluate the solution using weighted average travel times? The code for the WeightedAverageObjective object has been inserted for you below.\n",
    "\n",
    "**Note: that index must have the heading of `sector`**"
   ]
  },
  {
   "cell_type": "code",
   "execution_count": 9,
   "id": "500225b4",
   "metadata": {},
   "outputs": [],
   "source": [
    "obj = WeightedAverageObjective(attends, travel_matrix)"
   ]
  },
  {
   "cell_type": "markdown",
   "id": "b618ffd1",
   "metadata": {},
   "source": [
    "Step 6 is to evaluate the initial solution from Step 5 using the WeightedAverageObjective (new) variable, declared above."
   ]
  },
  {
   "cell_type": "code",
   "execution_count": 10,
   "id": "1e01def1",
   "metadata": {},
   "outputs": [
    {
     "data": {
      "text/plain": [
       "15.133891213389122"
      ]
     },
     "execution_count": 10,
     "metadata": {},
     "output_type": "execute_result"
    }
   ],
   "source": [
    "# your code goes here ...\n",
    "obj.evaluate(init_solution)"
   ]
  },
  {
   "cell_type": "markdown",
   "id": "35388a15",
   "metadata": {},
   "source": [
    "### 6. Enumerating all Possible Combinations\n",
    "<a name=\"small_prob\">\n",
    "   Code to Enumerate all Possible Facility Combinations.\n",
    "</a>\n",
    "\n",
    "The `all_combinations` function has been provided below.\n",
    "\n",
    "**Question** Who can remember what a list comprehension is? Where is it used in the function, below?"
   ]
  },
  {
   "cell_type": "code",
   "execution_count": 11,
   "id": "5882ae83",
   "metadata": {},
   "outputs": [],
   "source": [
    "def all_combinations(n_facilities, p):\n",
    "    '''\n",
    "    n_facilities : int\n",
    "        The number of candidate locations where you could place facilities (clinics).\n",
    "        \n",
    "    p : int\n",
    "        The number of clinics to place.\n",
    "    \n",
    "    Returns\n",
    "    -------\n",
    "    \n",
    "    Returns all p sized combinations of an array containing\n",
    "    indicies 0 to n_facilties - 1 \n",
    "    '''\n",
    "    facility = np.arange(n_facilities, dtype=np.uint8)\n",
    "    return [np.array(a) for a in combinations(facility, p)]"
   ]
  },
  {
   "cell_type": "markdown",
   "id": "64cceab7",
   "metadata": {},
   "source": [
    "Step 7-A is to use the function above to print the total number of possible combinations (remember - we're looking for 3 locations from the existing 5 clinics)."
   ]
  },
  {
   "cell_type": "code",
   "execution_count": 12,
   "id": "298833f6",
   "metadata": {},
   "outputs": [
    {
     "data": {
      "text/plain": [
       "10"
      ]
     },
     "execution_count": 12,
     "metadata": {},
     "output_type": "execute_result"
    }
   ],
   "source": [
    "# your code goes here ...\n",
    "comb = all_combinations(n_facilities=5, p=3)\n",
    "len(comb)"
   ]
  },
  {
   "cell_type": "markdown",
   "id": "1a88bad5",
   "metadata": {},
   "source": [
    "Step 7-B is to take a look at one of the combinations. What combination of clinics is propsed in the 5th element of the array of combinations?"
   ]
  },
  {
   "cell_type": "code",
   "execution_count": 13,
   "id": "f03d74a3",
   "metadata": {},
   "outputs": [
    {
     "data": {
      "text/plain": [
       "array([0, 2, 4], dtype=uint8)"
      ]
     },
     "execution_count": 13,
     "metadata": {},
     "output_type": "execute_result"
    }
   ],
   "source": [
    "# your code goes here ...\n",
    "comb[4]"
   ]
  },
  {
   "cell_type": "markdown",
   "id": "4928ed4a",
   "metadata": {},
   "source": [
    "### 7. Bruteforce\n",
    "<a name=\"bruteforce\">\n",
    "   Code to assess all possible clinic combinations with respect ot weighted average travel time.\n",
    "</a>\n",
    "\n"
   ]
  },
  {
   "cell_type": "markdown",
   "id": "a971bf26",
   "metadata": {},
   "source": [
    "Step 8-A is to create a list of the evaluated solutions. Once all evaluations have been added, convert the list to a Numpy array."
   ]
  },
  {
   "cell_type": "code",
   "execution_count": 14,
   "id": "087cb1c6",
   "metadata": {},
   "outputs": [],
   "source": [
    "# your code goes here ...\n",
    "results = []\n",
    "for solution in comb:\n",
    "    results.append(obj.evaluate(solution))\n",
    "results = np.array(results)"
   ]
  },
  {
   "cell_type": "markdown",
   "id": "03c729a0",
   "metadata": {},
   "source": [
    "Step 8-B is to extract and print the index of the optimal solution."
   ]
  },
  {
   "cell_type": "code",
   "execution_count": 15,
   "id": "8552e480",
   "metadata": {},
   "outputs": [
    {
     "name": "stdout",
     "output_type": "stream",
     "text": [
      "The index of the combinations offering the optimal solution is 8\n"
     ]
    }
   ],
   "source": [
    "# your code goes here ...\n",
    "optimal_index = np.argmin(results)\n",
    "print('The index of the combinations offering the optimal'+\\\n",
    "      f' solution is {optimal_index}')"
   ]
  },
  {
   "cell_type": "markdown",
   "id": "838fb3d1",
   "metadata": {},
   "source": [
    "### 8. Graphical Representation\n",
    "<a name=\"bar_chart\">\n",
    "   Code to generate a bar chart representing to assessment above.\n",
    "</a>\n",
    "\n",
    "The final Step, 9, is to generate a bar chart of all possible solution costs.\n",
    "\n",
    "Your chart should include the following elements:\n",
    "* All possible clinic combinations represented as bars\n",
    "* Lowest cost solution should be coloured in **green**\n",
    "* Title\n",
    "* x-axis label\n",
    "* y-axis label\n"
   ]
  },
  {
   "cell_type": "code",
   "execution_count": 18,
   "id": "ffc0c880",
   "metadata": {
    "scrolled": false
   },
   "outputs": [
    {
     "data": {
      "text/plain": [
       "Text(0, 0.5, \"Travel 'Cost'\")"
      ]
     },
     "execution_count": 18,
     "metadata": {},
     "output_type": "execute_result"
    },
    {
     "data": {
      "image/png": "[encoded data removed]",
      "text/plain": [
       "<Figure size 1200x600 with 1 Axes>"
      ]
     },
     "metadata": {},
     "output_type": "display_data"
    }
   ],
   "source": [
    "# your code goes here ...\n",
    "\n",
    "# Create axis on which to generate the chart\n",
    "fig, ax = plt.subplots(1, 1, figsize=(12, 6))\n",
    "\n",
    "# convert solutions to strings\n",
    "xlabels = []\n",
    "for solution in comb:\n",
    "    label = '-'.join(str(a) for a in solution)\n",
    "    xlabels.append(label)\n",
    "\n",
    "barlist = ax.bar(xlabels, results)\n",
    "barlist[optimal_index].set_color('green')\n",
    "\n",
    "# Title\n",
    "ax.set_title(\"Possible TIA Clinics to Remain\")\n",
    "\n",
    "# X-axis label\n",
    "ax.set_xlabel(\"Clinic Combinations (Index)\")\n",
    "\n",
    "# Y-axis label\n",
    "ax.set_ylabel(\"Travel 'Cost'\")"
   ]
  },
  {
   "cell_type": "markdown",
   "id": "95f9ef0a",
   "metadata": {},
   "source": [
    "The end."
   ]
  }
 ],
 "metadata": {
  "kernelspec": {
   "display_name": "Python 3 (ipykernel)",
   "language": "python",
   "name": "python3"
  },
  "language_info": {
   "codemirror_mode": {
    "name": "ipython",
    "version": 3
   },
   "file_extension": ".py",
   "mimetype": "text/x-python",
   "name": "python",
   "nbconvert_exporter": "python",
   "pygments_lexer": "ipython3",
   "version": "3.9.16"
  }
 },
 "nbformat": 4,
 "nbformat_minor": 5
}
