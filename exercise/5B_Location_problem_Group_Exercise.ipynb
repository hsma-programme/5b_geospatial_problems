{
 "cells": [
  {
   "cell_type": "markdown",
   "id": "b07b8431",
   "metadata": {},
   "source": [
    "<a name=\"top\">\n",
    "    Top of page\n",
    "</a>\n",
    "\n",
    "## 5B - Hands on Building of a Geographic Model\n",
    "### Facility Location Problems - Group Exercise\n",
    "\n",
    "#### Case Study: TIA Clinics in Cornwall\n",
    "\n",
    "Transient Ischaemic Attacks (TIAs) are a minor type of stroke (disruption of blood flow to the brain) where symptoms may last for up to 24 hours. TIAs can be important predictors of major strokes. These can can be fatal or cause substantial disability. Therefore, it is important for patients to have suitable and equitable access to a specialist TIA clinic shortly after their symptoms occur.\n",
    "\n",
    "This case study is set in Cornwall where TIA patients are currently assessed and treated at five clinic locations. Due to funding constraints not all locations are open every day. The locations are:\n",
    "\n",
    "* Royal Cornwall Hospital Trust (RCHT)\n",
    "* Cambourne Redruth Community Hospital (CRCH)\n",
    "* St. Austell Community Hospital (SACH)\n",
    "* Bodmin Community Hospital (BODMIN)\n",
    "* West Cornwall Hospital (WCH)\n",
    "\n",
    "Local NHS commissioners are considering the future of the service. They feel that five clinic locations is leading to variation in the quality of patient treatment and would like to **consolidate to three locations.** \n",
    "\n",
    "*They have asked for our help in making and supporting their decision making.*\n",
    "\n",
    "The data provided comprises of:\n",
    "\n",
    "* *tia_travel_matrix.csv* - Travel time matrix from different locations\n",
    "* *tia_attendances.csv* - Number of TIA clinic attendaces per LSOA\n",
    "\n",
    "Similar to the demonstration, you will be following the steps below within this notebook:\n",
    "\n",
    "[1. Library Imports](#lib_imports)\\\n",
    "[2. Data Imports](#data_imports)\\\n",
    "[3. Representing a Solution](#rep_sol)\\\n",
    "[4. Constructing a Random Solution](#cons_random)\\\n",
    "[5. Evaluating a Solution](#eval_sol)\\\n",
    "[6. Enumerating all Possible Combinations](#small_prob)\\\n",
    "[7. Bruteforce](#bruteforce)\\\n",
    "[8. Graphical Representation](#bar_chart)\n",
    "\n",
    "\n",
    "**Note** Using line numbers within cells may aid readability. Press `Shift` + `L` to toggle on/ off."
   ]
  },
  {
   "cell_type": "markdown",
   "id": "fbd35012",
   "metadata": {},
   "source": [
    "### 1. Library Imports\n",
    "<a name=\"lib_imports\">\n",
    "   Code to Import Libraries\n",
    "</a>\n",
    "\n",
    "Step 1. Do you remember which libraries were imported during the demonstration? Import them again to complete the rest of this exercise. **Hint - there are 5 in total**"
   ]
  },
  {
   "cell_type": "code",
   "execution_count": null,
   "id": "d4a37dda",
   "metadata": {},
   "outputs": [],
   "source": [
    "# your code goes here ..."
   ]
  },
  {
   "cell_type": "markdown",
   "id": "7e96615a",
   "metadata": {},
   "source": [
    "### 2. Data Imports\n",
    "<a name=\"data_imports\">\n",
    "   Code to Import Data\n",
    "</a>\n",
    "\n",
    "Step 2 is to import the travel matrix file named `tia_travel_matrix.csv` and check that the file has been read correctly. This file is saved in the same location as the clinic car travel time, shown in the demonstration. Define the index as `LSOA11CD`"
   ]
  },
  {
   "cell_type": "code",
   "execution_count": null,
   "id": "463fd35f",
   "metadata": {},
   "outputs": [],
   "source": [
    "# your code goes here ..."
   ]
  },
  {
   "cell_type": "markdown",
   "id": "34bb6df6",
   "metadata": {},
   "source": [
    "Step 3 is to import the number of `attendances.csv` file (in the same location). Again, check it's been read correctly and remember to set the index to `LSOA11CD`."
   ]
  },
  {
   "cell_type": "code",
   "execution_count": null,
   "id": "e5aa339a",
   "metadata": {},
   "outputs": [],
   "source": [
    "# your code goes here ..."
   ]
  },
  {
   "cell_type": "markdown",
   "id": "6564ff08",
   "metadata": {},
   "source": [
    "### 3. Representing a Solution\n",
    "<a name=\"rep_sol\">\n",
    "   Code to Represent a Proposed Solution\n",
    "</a>\n",
    "\n",
    "From the above you'll have seen that you've been provided with a travel matrix containing 5 clinic locations. For this case study, the 'solution' will comprise of 3 proposed clinics.\n",
    "\n",
    "Step 4-A is to manually define a solution array with the index numbers of 3 clinics."
   ]
  },
  {
   "cell_type": "code",
   "execution_count": null,
   "id": "879179df",
   "metadata": {},
   "outputs": [],
   "source": [
    "# your code goes here ..."
   ]
  },
  {
   "cell_type": "markdown",
   "id": "e7a884e0",
   "metadata": {},
   "source": [
    "Step 4-B is to declare a mask variable that contains the respective columns from the travel matrix. "
   ]
  },
  {
   "cell_type": "code",
   "execution_count": null,
   "id": "614307b0",
   "metadata": {},
   "outputs": [],
   "source": [
    "# your code goes here ..."
   ]
  },
  {
   "cell_type": "markdown",
   "id": "36494c6a",
   "metadata": {},
   "source": [
    "Step 4-C display the restrcited columns from the travel matrix, using mask from Step 4-B, above."
   ]
  },
  {
   "cell_type": "code",
   "execution_count": null,
   "id": "cd43b2c7",
   "metadata": {},
   "outputs": [],
   "source": [
    "# your code goes here ..."
   ]
  },
  {
   "cell_type": "markdown",
   "id": "932d71ef",
   "metadata": {},
   "source": [
    "### 4. Constructing a Random Solution\n",
    "<a name=\"cons_random\">\n",
    "   Code to Represent a Proposed Solution\n",
    "</a>\n",
    "\n",
    "Now it's time to generate a random solution. Remember the `random_solution` function from the demonstration? Lets put it to use.\n",
    "\n",
    "Step 5-A paste in the `random_solution` function in the cell below."
   ]
  },
  {
   "cell_type": "code",
   "execution_count": null,
   "id": "8702e5b5",
   "metadata": {},
   "outputs": [],
   "source": [
    "# pasted code goes here ..."
   ]
  },
  {
   "cell_type": "markdown",
   "id": "91f0a7a4",
   "metadata": {},
   "source": [
    "Step 5-B is to generate and store a random initial solution using the function above. Remember to get the parameters for the number of candidates and clinics correct."
   ]
  },
  {
   "cell_type": "code",
   "execution_count": null,
   "id": "a22d783e",
   "metadata": {},
   "outputs": [],
   "source": [
    "# your code goes here ..."
   ]
  },
  {
   "cell_type": "markdown",
   "id": "b073212d",
   "metadata": {},
   "source": [
    "**Question:** In your groups, discuss how the `random_solution` and `random_solution2` functions differ. Does everyone in the group understand? Which is more elegant (and why)?"
   ]
  },
  {
   "cell_type": "markdown",
   "id": "4f72fea6",
   "metadata": {},
   "source": [
    "### 5. Evaluating a Solution\n",
    "<a name=\"eval_sol\">\n",
    "   Code to Represent a Proposed Solution\n",
    "</a>\n",
    "\n",
    "We've now got everything we need to evaluate the solution using weighted average travel times?\n",
    "\n",
    "Look back over the initial imports. What tool can be used here? *Hint: it's part of the MetaPy package*\n",
    "\n",
    "Step 6-A is to instantiate a new object using the weighted average objective. Don't forget about the number of attendances and travel matix."
   ]
  },
  {
   "cell_type": "code",
   "execution_count": null,
   "id": "500225b4",
   "metadata": {},
   "outputs": [],
   "source": [
    "# your code goes here ..."
   ]
  },
  {
   "cell_type": "markdown",
   "id": "b618ffd1",
   "metadata": {},
   "source": [
    "Step 6-B is to evaluate the manually generated solution from Step 4-A using the WeightedAverageObjective (new) variable, declared above."
   ]
  },
  {
   "cell_type": "code",
   "execution_count": null,
   "id": "1e01def1",
   "metadata": {},
   "outputs": [],
   "source": [
    "# your code goes here ..."
   ]
  },
  {
   "cell_type": "markdown",
   "id": "35388a15",
   "metadata": {},
   "source": [
    "### 6. Enumerating all Possible Combinations\n",
    "<a name=\"small_prob\">\n",
    "   Code to Enumerate all Possible Facility Combinations.\n",
    "</a>\n",
    "\n",
    "Step 7-A is to copy and paste the `all_combinations` function from the demonstration.\n",
    "\n",
    "**Question** Who can remember what a list comprehension is? Where is it used in the pasted function, below?"
   ]
  },
  {
   "cell_type": "code",
   "execution_count": null,
   "id": "5882ae83",
   "metadata": {},
   "outputs": [],
   "source": [
    "# pasted code goes here ..."
   ]
  },
  {
   "cell_type": "markdown",
   "id": "64cceab7",
   "metadata": {},
   "source": [
    "Step 7-B is to use the function above to print the total number of possible combinations (remember - we're looking for 3 locations from the existing 5 clinics)."
   ]
  },
  {
   "cell_type": "code",
   "execution_count": null,
   "id": "298833f6",
   "metadata": {},
   "outputs": [],
   "source": [
    "# your code goes here ..."
   ]
  },
  {
   "cell_type": "markdown",
   "id": "1a88bad5",
   "metadata": {},
   "source": [
    "Step 7-C is to take a look at one of the combinations. What combination of clinics is propsed in the 5th element of the array of combinations?"
   ]
  },
  {
   "cell_type": "code",
   "execution_count": null,
   "id": "f03d74a3",
   "metadata": {},
   "outputs": [],
   "source": [
    "# your code goes here ..."
   ]
  },
  {
   "cell_type": "markdown",
   "id": "4928ed4a",
   "metadata": {},
   "source": [
    "### 7. Bruteforce\n",
    "<a name=\"bruteforce\">\n",
    "   Code to assess all possible clinic combinations with respect ot weighted average travel time.\n",
    "</a>\n",
    "\n"
   ]
  },
  {
   "cell_type": "markdown",
   "id": "a971bf26",
   "metadata": {},
   "source": [
    "Step 8-A is to create a list of the evaluated soluctions. Once all evaluations have been added, convert the list to a Numpy array."
   ]
  },
  {
   "cell_type": "code",
   "execution_count": null,
   "id": "087cb1c6",
   "metadata": {},
   "outputs": [],
   "source": [
    "# your code goes here ..."
   ]
  },
  {
   "cell_type": "markdown",
   "id": "03c729a0",
   "metadata": {},
   "source": [
    "Step 8-B is to extract and print the index of the optimal solution."
   ]
  },
  {
   "cell_type": "code",
   "execution_count": null,
   "id": "8552e480",
   "metadata": {},
   "outputs": [],
   "source": [
    "# your code goes here ..."
   ]
  },
  {
   "cell_type": "markdown",
   "id": "838fb3d1",
   "metadata": {},
   "source": [
    "### 8. Graphical Representation\n",
    "<a name=\"bar_chart\">\n",
    "   Code to generate a bar chart representing to assessment above.\n",
    "</a>\n",
    "\n",
    "The final Step, 9, is to generate a bar chart of all possible solution costs.\n",
    "\n",
    "Your chart should include the following elements:\n",
    "* All possible clinic combinations represented as bars\n",
    "* Lowest cost solution should be coloured in **green**\n",
    "* Title\n",
    "* x-axis label\n",
    "* y-axis label\n"
   ]
  },
  {
   "cell_type": "code",
   "execution_count": null,
   "id": "ffc0c880",
   "metadata": {
    "scrolled": false
   },
   "outputs": [],
   "source": [
    "# your code goes here ..."
   ]
  },
  {
   "cell_type": "markdown",
   "id": "95f9ef0a",
   "metadata": {},
   "source": [
    "The end."
   ]
  }
 ],
 "metadata": {
  "kernelspec": {
   "display_name": "Python 3 (ipykernel)",
   "language": "python",
   "name": "python3"
  },
  "language_info": {
   "codemirror_mode": {
    "name": "ipython",
    "version": 3
   },
   "file_extension": ".py",
   "mimetype": "text/x-python",
   "name": "python",
   "nbconvert_exporter": "python",
   "pygments_lexer": "ipython3",
   "version": "3.9.12"
  }
 },
 "nbformat": 4,
 "nbformat_minor": 5
}
